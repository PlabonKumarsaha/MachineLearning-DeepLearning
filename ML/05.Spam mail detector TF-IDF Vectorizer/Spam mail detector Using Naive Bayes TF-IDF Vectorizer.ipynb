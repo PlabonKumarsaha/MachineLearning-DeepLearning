{
 "cells": [
  {
   "cell_type": "code",
   "execution_count": null,
   "id": "grave-deficit",
   "metadata": {},
   "outputs": [],
   "source": [
    "# tf = number of repeated word in a sentence / total word in a sentence\n",
    "# idf = log(total number of sentence/ no of sentence that contains the word)\n",
    "\n"
   ]
  },
  {
   "cell_type": "code",
   "execution_count": 30,
   "id": "foreign-throat",
   "metadata": {},
   "outputs": [],
   "source": [
    "# data set link : https://www.kaggle.com/rockinjas123/spam-ham-emails\n",
    "# import\n",
    "import numpy as np;\n",
    "import seaborn as sb\n",
    "import pandas as pd\n",
    "from sklearn.model_selection import train_test_split\n",
    "from sklearn.feature_extraction.text import CountVectorizer"
   ]
  },
  {
   "cell_type": "code",
   "execution_count": 3,
   "id": "unauthorized-ranch",
   "metadata": {},
   "outputs": [],
   "source": [
    "# import dataset\n",
    "df = pd.read_csv('emails.csv')"
   ]
  },
  {
   "cell_type": "code",
   "execution_count": 4,
   "id": "different-fabric",
   "metadata": {},
   "outputs": [
    {
     "data": {
      "text/html": [
       "<div>\n",
       "<style scoped>\n",
       "    .dataframe tbody tr th:only-of-type {\n",
       "        vertical-align: middle;\n",
       "    }\n",
       "\n",
       "    .dataframe tbody tr th {\n",
       "        vertical-align: top;\n",
       "    }\n",
       "\n",
       "    .dataframe thead th {\n",
       "        text-align: right;\n",
       "    }\n",
       "</style>\n",
       "<table border=\"1\" class=\"dataframe\">\n",
       "  <thead>\n",
       "    <tr style=\"text-align: right;\">\n",
       "      <th></th>\n",
       "      <th>text</th>\n",
       "      <th>spam</th>\n",
       "    </tr>\n",
       "  </thead>\n",
       "  <tbody>\n",
       "    <tr>\n",
       "      <th>0</th>\n",
       "      <td>Subject: naturally irresistible your corporate...</td>\n",
       "      <td>1</td>\n",
       "    </tr>\n",
       "    <tr>\n",
       "      <th>1</th>\n",
       "      <td>Subject: the stock trading gunslinger  fanny i...</td>\n",
       "      <td>1</td>\n",
       "    </tr>\n",
       "    <tr>\n",
       "      <th>2</th>\n",
       "      <td>Subject: unbelievable new homes made easy  im ...</td>\n",
       "      <td>1</td>\n",
       "    </tr>\n",
       "    <tr>\n",
       "      <th>3</th>\n",
       "      <td>Subject: 4 color printing special  request add...</td>\n",
       "      <td>1</td>\n",
       "    </tr>\n",
       "    <tr>\n",
       "      <th>4</th>\n",
       "      <td>Subject: do not have money , get software cds ...</td>\n",
       "      <td>1</td>\n",
       "    </tr>\n",
       "    <tr>\n",
       "      <th>...</th>\n",
       "      <td>...</td>\n",
       "      <td>...</td>\n",
       "    </tr>\n",
       "    <tr>\n",
       "      <th>5723</th>\n",
       "      <td>Subject: re : research and development charges...</td>\n",
       "      <td>0</td>\n",
       "    </tr>\n",
       "    <tr>\n",
       "      <th>5724</th>\n",
       "      <td>Subject: re : receipts from visit  jim ,  than...</td>\n",
       "      <td>0</td>\n",
       "    </tr>\n",
       "    <tr>\n",
       "      <th>5725</th>\n",
       "      <td>Subject: re : enron case study update  wow ! a...</td>\n",
       "      <td>0</td>\n",
       "    </tr>\n",
       "    <tr>\n",
       "      <th>5726</th>\n",
       "      <td>Subject: re : interest  david ,  please , call...</td>\n",
       "      <td>0</td>\n",
       "    </tr>\n",
       "    <tr>\n",
       "      <th>5727</th>\n",
       "      <td>Subject: news : aurora 5 . 2 update  aurora ve...</td>\n",
       "      <td>0</td>\n",
       "    </tr>\n",
       "  </tbody>\n",
       "</table>\n",
       "<p>5728 rows × 2 columns</p>\n",
       "</div>"
      ],
      "text/plain": [
       "                                                   text  spam\n",
       "0     Subject: naturally irresistible your corporate...     1\n",
       "1     Subject: the stock trading gunslinger  fanny i...     1\n",
       "2     Subject: unbelievable new homes made easy  im ...     1\n",
       "3     Subject: 4 color printing special  request add...     1\n",
       "4     Subject: do not have money , get software cds ...     1\n",
       "...                                                 ...   ...\n",
       "5723  Subject: re : research and development charges...     0\n",
       "5724  Subject: re : receipts from visit  jim ,  than...     0\n",
       "5725  Subject: re : enron case study update  wow ! a...     0\n",
       "5726  Subject: re : interest  david ,  please , call...     0\n",
       "5727  Subject: news : aurora 5 . 2 update  aurora ve...     0\n",
       "\n",
       "[5728 rows x 2 columns]"
      ]
     },
     "execution_count": 4,
     "metadata": {},
     "output_type": "execute_result"
    }
   ],
   "source": [
    "df\n",
    "# text is the feature and spam is the label(independent)"
   ]
  },
  {
   "cell_type": "code",
   "execution_count": 5,
   "id": "amateur-superintendent",
   "metadata": {},
   "outputs": [
    {
     "data": {
      "text/plain": [
       "0    4360\n",
       "1    1368\n",
       "Name: spam, dtype: int64"
      ]
     },
     "execution_count": 5,
     "metadata": {},
     "output_type": "execute_result"
    }
   ],
   "source": [
    "df['spam'].value_counts()"
   ]
  },
  {
   "cell_type": "code",
   "execution_count": 6,
   "id": "increased-disposal",
   "metadata": {},
   "outputs": [],
   "source": [
    "# drop the duplicate values\n",
    "df.drop_duplicates(inplace = True)"
   ]
  },
  {
   "cell_type": "code",
   "execution_count": 8,
   "id": "arctic-hebrew",
   "metadata": {},
   "outputs": [
    {
     "data": {
      "text/plain": [
       "0    4327\n",
       "1    1368\n",
       "Name: spam, dtype: int64"
      ]
     },
     "execution_count": 8,
     "metadata": {},
     "output_type": "execute_result"
    }
   ],
   "source": [
    "df['spam'].value_counts()\n",
    "# some duplicate ham mails were drops..count droped from 4360 to 4327"
   ]
  },
  {
   "cell_type": "code",
   "execution_count": 9,
   "id": "civilian-distance",
   "metadata": {},
   "outputs": [
    {
     "data": {
      "text/html": [
       "<div>\n",
       "<style scoped>\n",
       "    .dataframe tbody tr th:only-of-type {\n",
       "        vertical-align: middle;\n",
       "    }\n",
       "\n",
       "    .dataframe tbody tr th {\n",
       "        vertical-align: top;\n",
       "    }\n",
       "\n",
       "    .dataframe thead th {\n",
       "        text-align: right;\n",
       "    }\n",
       "</style>\n",
       "<table border=\"1\" class=\"dataframe\">\n",
       "  <thead>\n",
       "    <tr style=\"text-align: right;\">\n",
       "      <th></th>\n",
       "      <th>text</th>\n",
       "      <th>spam</th>\n",
       "    </tr>\n",
       "  </thead>\n",
       "  <tbody>\n",
       "    <tr>\n",
       "      <th>0</th>\n",
       "      <td>Subject: naturally irresistible your corporate...</td>\n",
       "      <td>1</td>\n",
       "    </tr>\n",
       "    <tr>\n",
       "      <th>1</th>\n",
       "      <td>Subject: the stock trading gunslinger  fanny i...</td>\n",
       "      <td>1</td>\n",
       "    </tr>\n",
       "    <tr>\n",
       "      <th>2</th>\n",
       "      <td>Subject: unbelievable new homes made easy  im ...</td>\n",
       "      <td>1</td>\n",
       "    </tr>\n",
       "    <tr>\n",
       "      <th>3</th>\n",
       "      <td>Subject: 4 color printing special  request add...</td>\n",
       "      <td>1</td>\n",
       "    </tr>\n",
       "    <tr>\n",
       "      <th>4</th>\n",
       "      <td>Subject: do not have money , get software cds ...</td>\n",
       "      <td>1</td>\n",
       "    </tr>\n",
       "    <tr>\n",
       "      <th>...</th>\n",
       "      <td>...</td>\n",
       "      <td>...</td>\n",
       "    </tr>\n",
       "    <tr>\n",
       "      <th>5723</th>\n",
       "      <td>Subject: re : research and development charges...</td>\n",
       "      <td>0</td>\n",
       "    </tr>\n",
       "    <tr>\n",
       "      <th>5724</th>\n",
       "      <td>Subject: re : receipts from visit  jim ,  than...</td>\n",
       "      <td>0</td>\n",
       "    </tr>\n",
       "    <tr>\n",
       "      <th>5725</th>\n",
       "      <td>Subject: re : enron case study update  wow ! a...</td>\n",
       "      <td>0</td>\n",
       "    </tr>\n",
       "    <tr>\n",
       "      <th>5726</th>\n",
       "      <td>Subject: re : interest  david ,  please , call...</td>\n",
       "      <td>0</td>\n",
       "    </tr>\n",
       "    <tr>\n",
       "      <th>5727</th>\n",
       "      <td>Subject: news : aurora 5 . 2 update  aurora ve...</td>\n",
       "      <td>0</td>\n",
       "    </tr>\n",
       "  </tbody>\n",
       "</table>\n",
       "<p>5695 rows × 2 columns</p>\n",
       "</div>"
      ],
      "text/plain": [
       "                                                   text  spam\n",
       "0     Subject: naturally irresistible your corporate...     1\n",
       "1     Subject: the stock trading gunslinger  fanny i...     1\n",
       "2     Subject: unbelievable new homes made easy  im ...     1\n",
       "3     Subject: 4 color printing special  request add...     1\n",
       "4     Subject: do not have money , get software cds ...     1\n",
       "...                                                 ...   ...\n",
       "5723  Subject: re : research and development charges...     0\n",
       "5724  Subject: re : receipts from visit  jim ,  than...     0\n",
       "5725  Subject: re : enron case study update  wow ! a...     0\n",
       "5726  Subject: re : interest  david ,  please , call...     0\n",
       "5727  Subject: news : aurora 5 . 2 update  aurora ve...     0\n",
       "\n",
       "[5695 rows x 2 columns]"
      ]
     },
     "execution_count": 9,
     "metadata": {},
     "output_type": "execute_result"
    }
   ],
   "source": [
    "df"
   ]
  },
  {
   "cell_type": "code",
   "execution_count": 10,
   "id": "political-dairy",
   "metadata": {},
   "outputs": [
    {
     "data": {
      "text/plain": [
       "text    0\n",
       "spam    0\n",
       "dtype: int64"
      ]
     },
     "execution_count": 10,
     "metadata": {},
     "output_type": "execute_result"
    }
   ],
   "source": [
    "df.isnull().sum()"
   ]
  },
  {
   "cell_type": "markdown",
   "id": "national-ranking",
   "metadata": {},
   "source": [
    "## Seperating the x and y from dataset "
   ]
  },
  {
   "cell_type": "code",
   "execution_count": 11,
   "id": "early-bunny",
   "metadata": {},
   "outputs": [],
   "source": [
    "x = df.text.values\n",
    "y = df.spam.values"
   ]
  },
  {
   "cell_type": "code",
   "execution_count": 15,
   "id": "exempt-archives",
   "metadata": {},
   "outputs": [
    {
     "data": {
      "text/plain": [
       "array([1, 1, 1, ..., 0, 0, 0], dtype=int64)"
      ]
     },
     "execution_count": 15,
     "metadata": {},
     "output_type": "execute_result"
    }
   ],
   "source": [
    "y"
   ]
  },
  {
   "cell_type": "markdown",
   "id": "raising-processing",
   "metadata": {},
   "source": [
    "## split dataset for training"
   ]
  },
  {
   "cell_type": "code",
   "execution_count": 45,
   "id": "missing-stranger",
   "metadata": {},
   "outputs": [],
   "source": [
    "xtrain,xtest,ytrain,ytest = train_test_split(x,y,test_size = 0.2)"
   ]
  },
  {
   "cell_type": "code",
   "execution_count": 34,
   "id": "representative-remedy",
   "metadata": {},
   "outputs": [
    {
     "data": {
      "text/plain": [
       "array(['Subject: fyi - a new esai report forecasting power prices in eastern markets  attached is a new report forecasting jan - feb - mar power prices based on  weather services international weather forecasts and esai energy analytics .  feel free to comment . a version using national weather service information  will also be available .  ed  edward n . krapels , phd  managing director  esai power and gas services  tel 781 245 2036  cell 617 899 4948  ekrapels @ esaibos . com  www . esai . com  - esai energycast power dec 00 . pdf',\n",
       "       'Subject: new 22 cpm color copier information  kevin ,  i am not sure by what date you require a color copier but if you can wait  until april , lanier has let me know that they are going to release their new  22 copy per minute color copier @ that time . please look @ the attached  spreadsheet and compare the cost with the $ 24 cpm canon copier sent to you  on 01 / 31 / 2000 :  let me know what you think .  thanks , iain . . . . . . . . . . . . . . . . .  iain russell  02 / 01 / 2000 10 : 11 am  to : kevin g moore / hou / ect @ ect  cc : vince j kaminski / hou / ect @ ect , mike a roberts / hou / ect @ ect  subject : revised 10 cpm color copier information  kevin ,  i revised the cost on the 10 cpm tab under cpi : - - >  thanks , iain . . . . . . . . . . . . . . . . . . .  - - - - - - - - - - - - - - - - - - - - - - forwarded by iain russell / epsc / hou / ect on 02 / 01 / 2000  10 : 05 am - - - - - - - - - - - - - - - - - - - - - - - - - - -  color copier information  from : iain russell on 01 / 31 / 2000 11 : 45 pm  to : kevin g moore / hou / ect @ ect  cc : vince j kaminski / hou / ect @ ect , mike a roberts / hou / ect @ ect , shirley  crenshaw / hou / ect @ ect , carole rogers / epsc / hou / ect @ ect  subject : color copier information',\n",
       "       'Subject: new invoice for energy and weather  vince ,  ?  please find attached a replacement invoice for invoice number 215 . ? this  invoice includes the correction in charges for the weather course , and for  only one attendee for the energy derivatives course .  ?  if you should have any questions , please contact me .  ?  sincerely ,  julie  - enron 283 _ 9 _ 04 _ 01 . doc',\n",
       "       ...,\n",
       "       'Subject: sas online tutorial  hi -  we have access to the sas online tutorial for the next 30 days . point your  browser to  and use the username \" enron \" and password \" enron \" to enter .  the way this product works is designed for a single user ( it sets a \" cookie \"  allowing you to \" resume \" your place in the tutorial when you re - enter . )  since several of us may use it , we \\' ll need to work around this , each of us  remembering where we were before and recreating any sample data sets , etc  necessary for the lesson in progress .  clayton  ps the module eis / olap will be a part of our installation next month , but is  not currently available  pps please remember to use your local browser to browse the sas online  documentation . invoking a browser on the unix server is inefficient .',\n",
       "       'Subject: reply to your email / ignore my voicemail  vince :  thanks for that . i just wanted to get a sense from you who the right people  are and how i can establish effective contact . when he went on to different  responsibilities , john goodpasture suggested i get the dialog going with the  right commercial people in enron . i will be in your neighborhood in the 200  pm time range and will give you a quick call . that will conserve your  valuable time and hopefully get me in touch with the right people . i am  reading this after your voicemail , so this supersedes that .  dale  - - - - - original message - - - - -  from : vince . j . kaminski @ enron . com [ mailto : vince . j . kaminski @ enron . com ]  sent : tuesday , may 01 , 2001 6 : 03 am  to : dale . nesbitt @ marketpointinc . com  cc : vince . j . kaminski @ enron . com  subject : re : get together this coming tuesday ?  dale ,  i can reserve 2 to 2 : 30 time slot but there is really not much that  i can tell you at this point .  the commercial groups are still interested and are moving  towards the test of the package . as soon as they will decide  to move ahead , we ( research ) shall be involved , helping to evaluate the  product . as i have said , we are not the  decision makers in this case .  i think that we should allow simply the process to run its course .  vince  \" dale m . nesbitt \" on 04 / 30 / 2001 05 : 59 : 30  pm  please respond to  to :  cc :  subject : re : get together this coming tuesday ?  vince :  i will call tomorrow in the morning . lunch or right after lunch would be  great . how would 100 pm work for you ?  dale  - - - - - original message - - - - -  from : vince . j . kaminski @ enron . com [ mailto : vince . j . kaminski @ enron . com ]  sent : monday , april 30 , 2001 3 : 07 pm  to : dale . nesbitt @ marketpointinc . com  cc : kimberly . watson @ enron . com ; vince . j . kaminski @ enron . com  subject : re : get together this coming tuesday ?  dale ,  please , call me on tuesday . my morning schedule is full but i am open in  the afternoon .  vince  \" dale m . nesbitt \" on 04 / 30 / 2001 01 : 51 : 21  am  please respond to  to : \" vincent kaminski \" , \" kimberly s . watson \"  cc :  subject : get together this coming tuesday ?  vince / kim :  i am flying to houston tonight and wondered if it would fit one or both of  your schedules to get together this coming tuesday sometime for 1 / 2 hour or  so . i really want to reinitiate the conversations marketpoint was having  with john goodpasture and you , and he said either or both of you were the  right people to continue after his responsibility shift . john was quite  positive about the idea of enron acquiring marketpoint narg through  license ,  and he implied that one or both of you would be carrying the ball in that  direction after he handed it to you .  would this coming tuesday morning at 930 am be a good time for you guys ?  if  so , please give me an email shout at the above address or leave a message  on  my voicemail at ( 650 ) 218 - 3069 . i think you will be truly impressed with  the  scope and progress we have been able to make with both the short run narg  and the long run narg in which you were interested ( not to mention our  power  model ) . the progress is noticeable since you saw it . both long and short  term narg are having quite an impact on a number of gas decisions at the  moment ranging from venezuelan lng , north american lng import terminals and  term , gas basis calculations , trading support , power plant development ,  gas - to - power price spreads in key markets , veracity of heat rate trades ,  bank financings , storage field evaluation , and which new pipelines we can  expect to see enter and which are dogs .  i really hope we can fit it in and get our discussions moving in a mutually  productive direction again . i think narg can help you become even more  successful , and i look forward to working with you .  we have a new office address and new phone number as well . ( we move in may  1 . )  altos management partners  95 main street , suite 10  los altos , ca 94022  ( 650 ) 948 - 8830 voice  ( 650 ) 948 - 8850 fax  ( 650 ) 218 - 3069 cellular  give the phones a week or so to get \" debugged \" and then switch over .  dale',\n",
       "       \"Subject: wti simulation model 30 , 000 bbl / trade  john ,  attached are updated results of zimin ' s model assuming each trade is on a  total notional of 30 , 000 bbls . note that i have re - scaled the results to be  in $ mm .  - - stinson  open - close prices continuous prices\"],\n",
       "      dtype=object)"
      ]
     },
     "execution_count": 34,
     "metadata": {},
     "output_type": "execute_result"
    }
   ],
   "source": [
    "xtrain"
   ]
  },
  {
   "cell_type": "code",
   "execution_count": 46,
   "id": "boring-growth",
   "metadata": {},
   "outputs": [
    {
     "data": {
      "text/plain": [
       "array([0, 0, 0, ..., 1, 0, 0], dtype=int64)"
      ]
     },
     "execution_count": 46,
     "metadata": {},
     "output_type": "execute_result"
    }
   ],
   "source": [
    "ytrain"
   ]
  },
  {
   "cell_type": "markdown",
   "id": "outdoor-monday",
   "metadata": {},
   "source": [
    "# Data preprocessing"
   ]
  },
  {
   "cell_type": "code",
   "execution_count": 47,
   "id": "flexible-banner",
   "metadata": {},
   "outputs": [],
   "source": [
    "cv = CountVectorizer()\n",
    "x_train = cv.fit_transform(xtrain)"
   ]
  },
  {
   "cell_type": "code",
   "execution_count": 48,
   "id": "leading-musical",
   "metadata": {},
   "outputs": [
    {
     "data": {
      "text/plain": [
       "array([[0, 0, 0, ..., 0, 0, 0],\n",
       "       [0, 0, 0, ..., 0, 0, 0],\n",
       "       [0, 0, 0, ..., 0, 0, 0],\n",
       "       ...,\n",
       "       [0, 0, 0, ..., 0, 0, 0],\n",
       "       [0, 0, 0, ..., 0, 0, 0],\n",
       "       [0, 0, 0, ..., 0, 0, 0]], dtype=int64)"
      ]
     },
     "execution_count": 48,
     "metadata": {},
     "output_type": "execute_result"
    }
   ],
   "source": [
    "x_train.toarray()"
   ]
  },
  {
   "cell_type": "markdown",
   "id": "special-temple",
   "metadata": {},
   "source": [
    "# ML model"
   ]
  },
  {
   "cell_type": "code",
   "execution_count": 40,
   "id": "deluxe-penetration",
   "metadata": {},
   "outputs": [],
   "source": [
    "from sklearn.naive_bayes import MultinomialNB\n",
    "#MultinomialNB is best suite for text based workd"
   ]
  },
  {
   "cell_type": "code",
   "execution_count": 49,
   "id": "available-facing",
   "metadata": {},
   "outputs": [
    {
     "data": {
      "text/plain": [
       "MultinomialNB()"
      ]
     },
     "execution_count": 49,
     "metadata": {},
     "output_type": "execute_result"
    }
   ],
   "source": [
    "model = MultinomialNB()\n",
    "model.fit(x_train,ytrain)"
   ]
  },
  {
   "cell_type": "code",
   "execution_count": 50,
   "id": "cultural-delhi",
   "metadata": {},
   "outputs": [],
   "source": [
    "x_test = cv.transform(xtest)"
   ]
  },
  {
   "cell_type": "code",
   "execution_count": 52,
   "id": "thousand-hybrid",
   "metadata": {},
   "outputs": [
    {
     "data": {
      "text/plain": [
       "array([[0, 0, 0, ..., 0, 0, 0],\n",
       "       [0, 0, 0, ..., 0, 0, 0],\n",
       "       [0, 1, 0, ..., 0, 0, 0],\n",
       "       ...,\n",
       "       [0, 0, 0, ..., 0, 0, 0],\n",
       "       [0, 0, 0, ..., 0, 0, 0],\n",
       "       [0, 0, 0, ..., 0, 0, 0]], dtype=int64)"
      ]
     },
     "execution_count": 52,
     "metadata": {},
     "output_type": "execute_result"
    }
   ],
   "source": [
    "x_test.toarray()"
   ]
  },
  {
   "cell_type": "code",
   "execution_count": 54,
   "id": "talented-surfing",
   "metadata": {},
   "outputs": [
    {
     "data": {
      "text/plain": [
       "0.9885864793678666"
      ]
     },
     "execution_count": 54,
     "metadata": {},
     "output_type": "execute_result"
    }
   ],
   "source": [
    "# model accuracy\n",
    "model.score(x_test,ytest)"
   ]
  },
  {
   "cell_type": "code",
   "execution_count": 64,
   "id": "muslim-greece",
   "metadata": {},
   "outputs": [],
   "source": [
    "emails = ['I am looking for ML bengali tutorial', 'You have won a Iphone. Now fill up this adress form']"
   ]
  },
  {
   "cell_type": "code",
   "execution_count": 65,
   "id": "declared-addiction",
   "metadata": {},
   "outputs": [],
   "source": [
    "cv_emails = cv.transform(emails)\n"
   ]
  },
  {
   "cell_type": "code",
   "execution_count": 66,
   "id": "limiting-services",
   "metadata": {},
   "outputs": [
    {
     "data": {
      "text/plain": [
       "<2x33298 sparse matrix of type '<class 'numpy.int64'>'\n",
       "\twith 14 stored elements in Compressed Sparse Row format>"
      ]
     },
     "execution_count": 66,
     "metadata": {},
     "output_type": "execute_result"
    }
   ],
   "source": [
    "cv_emails"
   ]
  },
  {
   "cell_type": "code",
   "execution_count": 68,
   "id": "conscious-helicopter",
   "metadata": {},
   "outputs": [
    {
     "data": {
      "text/plain": [
       "array([0, 1], dtype=int64)"
      ]
     },
     "execution_count": 68,
     "metadata": {},
     "output_type": "execute_result"
    }
   ],
   "source": [
    "model.predict(cv_emails)\n",
    "# here the output 0 means not a ham mail and 1 means it is a spam mail"
   ]
  },
  {
   "cell_type": "code",
   "execution_count": null,
   "id": "quiet-authority",
   "metadata": {},
   "outputs": [],
   "source": []
  }
 ],
 "metadata": {
  "kernelspec": {
   "display_name": "Python 3",
   "language": "python",
   "name": "python3"
  },
  "language_info": {
   "codemirror_mode": {
    "name": "ipython",
    "version": 3
   },
   "file_extension": ".py",
   "mimetype": "text/x-python",
   "name": "python",
   "nbconvert_exporter": "python",
   "pygments_lexer": "ipython3",
   "version": "3.7.9"
  }
 },
 "nbformat": 4,
 "nbformat_minor": 5
}
