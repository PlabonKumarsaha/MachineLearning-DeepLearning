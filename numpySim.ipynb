{
 "cells": [
  {
   "cell_type": "code",
   "execution_count": 1,
   "id": "101544f9",
   "metadata": {},
   "outputs": [
    {
     "name": "stdout",
     "output_type": "stream",
     "text": [
      "hello\n"
     ]
    }
   ],
   "source": [
    "print('hello')"
   ]
  },
  {
   "cell_type": "code",
   "execution_count": null,
   "id": "9c2d007b",
   "metadata": {},
   "outputs": [],
   "source": [
    "\n",
    "\n"
   ]
  },
  {
   "cell_type": "code",
   "execution_count": 2,
   "id": "0cd7c9b0",
   "metadata": {},
   "outputs": [
    {
     "name": "stdout",
     "output_type": "stream",
     "text": [
      "Collecting numpy\n",
      "  Using cached numpy-1.21.2-cp39-cp39-win_amd64.whl (14.0 MB)\n",
      "Installing collected packages: numpy\n",
      "Note: you may need to restart the kernel to use updated packages.\n"
     ]
    },
    {
     "name": "stderr",
     "output_type": "stream",
     "text": [
      "WARNING: Ignoring invalid distribution -ip (c:\\python39\\lib\\site-packages)\n",
      "WARNING: Ignoring invalid distribution -ip (c:\\python39\\lib\\site-packages)\n",
      "WARNING: Ignoring invalid distribution -ip (c:\\python39\\lib\\site-packages)\n",
      "  WARNING: Failed to write executable - trying to use .deleteme logic\n",
      "ERROR: Could not install packages due to an OSError: [WinError 2] The system cannot find the file specified: 'C:\\\\Python39\\\\Scripts\\\\f2py.exe' -> 'C:\\\\Python39\\\\Scripts\\\\f2py.exe.deleteme'\n",
      "\n",
      "WARNING: Ignoring invalid distribution -ip (c:\\python39\\lib\\site-packages)\n",
      "WARNING: Ignoring invalid distribution -ip (c:\\python39\\lib\\site-packages)\n",
      "WARNING: Ignoring invalid distribution -ip (c:\\python39\\lib\\site-packages)\n",
      "WARNING: You are using pip version 21.2.3; however, version 21.2.4 is available.\n",
      "You should consider upgrading via the 'C:\\Python39\\python.exe -m pip install --upgrade pip' command.\n"
     ]
    }
   ],
   "source": [
    "pip install numpy\n"
   ]
  },
  {
   "cell_type": "code",
   "execution_count": 4,
   "id": "9026d42c",
   "metadata": {},
   "outputs": [],
   "source": [
    "#Import required library\n",
    "import numpy as np"
   ]
  },
  {
   "cell_type": "code",
   "execution_count": 6,
   "id": "743dce9f",
   "metadata": {},
   "outputs": [],
   "source": [
    "#Manually add the dataset\n",
    "cs ='Algeria','Angola','Argentina','Australia','Austria','Bahamas','Bangladesh','Belarus','Belgium','Bhutan','Brazil','Bulgaria','Cambodia','Cameroon','Chile','China','Colombia','Cyprus','Denmark','El Salvador','Estonia','Ethiopia','Fiji','Finland','France','Georgia','Ghana','Grenada','Guinea','Haiti','Honduras','Hungary','India','Indonesia','Ireland','Italy','Japan','Kenya', 'South Korea','Liberia','Malaysia','Mexico', 'Morocco','Nepal','New Zealand','Norway','Pakistan', 'Peru','Qatar','Russia','Singapore','South Africa','Spain','Sweden','Switzerland','Thailand', 'United Arab Emirates','United Kingdom','United States','Uruguay','Venezuela','Vietnam','Zimbabwe'\n",
    "countries = np.array(cs)"
   ]
  },
  {
   "cell_type": "code",
   "execution_count": 17,
   "id": "09726efe",
   "metadata": {},
   "outputs": [
    {
     "data": {
      "text/plain": [
       "array(['Algeria', 'Angola', 'Argentina', 'Australia', 'Austria',\n",
       "       'Bahamas', 'Bangladesh', 'Belarus', 'Belgium', 'Bhutan', 'Brazil',\n",
       "       'Bulgaria', 'Cambodia', 'Cameroon', 'Chile', 'China', 'Colombia',\n",
       "       'Cyprus', 'Denmark', 'El Salvador', 'Estonia', 'Ethiopia', 'Fiji',\n",
       "       'Finland', 'France', 'Georgia', 'Ghana', 'Grenada', 'Guinea',\n",
       "       'Haiti', 'Honduras', 'Hungary', 'India', 'Indonesia', 'Ireland',\n",
       "       'Italy', 'Japan', 'Kenya', 'South Korea', 'Liberia', 'Malaysia',\n",
       "       'Mexico', 'Morocco', 'Nepal', 'New Zealand', 'Norway', 'Pakistan',\n",
       "       'Peru', 'Qatar', 'Russia', 'Singapore', 'South Africa', 'Spain',\n",
       "       'Sweden', 'Switzerland', 'Thailand', 'United Arab Emirates',\n",
       "       'United Kingdom', 'United States', 'Uruguay', 'Venezuela',\n",
       "       'Vietnam', 'Zimbabwe'], dtype='<U20')"
      ]
     },
     "execution_count": 17,
     "metadata": {},
     "output_type": "execute_result"
    }
   ],
   "source": [
    "countries"
   ]
  },
  {
   "cell_type": "code",
   "execution_count": 8,
   "id": "5cb57e35",
   "metadata": {},
   "outputs": [
    {
     "data": {
      "text/plain": [
       "array([ 2255.225482 ,   629.9553062, 11601.63022  , 25306.82494  ,\n",
       "       27266.40335  , 19466.99052  ,   588.3691778,  2890.345675 ,\n",
       "       24733.62696  ,  1445.760002 ,  4803.398244 ,  2618.876037 ,\n",
       "         590.4521124,   665.7982328,  7122.938458 ,  2639.54156  ,\n",
       "        3362.4656   , 15378.16704  , 30860.12808  ,  2579.115607 ,\n",
       "        6525.541272 ,   229.6769525,  2242.689259 , 27570.4852   ,\n",
       "       23016.84778  ,  1334.646773 ,   402.6953275,  6047.200797 ,\n",
       "         394.1156638,   385.5793827,  1414.072488 ,  5745.981529 ,\n",
       "         837.7464011,  1206.991065 , 27715.52837  , 18937.24998  ,\n",
       "       39578.07441  ,   478.2194906, 16684.21278  ,   279.2204061,\n",
       "        5345.213415 ,  6288.25324  ,  1908.304416 ,   274.8728621,\n",
       "       14646.42094  , 40034.85063  ,   672.1547506,  3359.517402 ,\n",
       "       36152.66676  ,  3054.727742 , 33529.83052  ,  3825.093781 ,\n",
       "       15428.32098  , 33630.24604  , 39170.41371  ,  2699.123242 ,\n",
       "       21058.43643  , 28272.40661  , 37691.02733  ,  9581.05659  ,\n",
       "        5671.912202 ,   757.4009286,   347.7456605])"
      ]
     },
     "execution_count": 8,
     "metadata": {},
     "output_type": "execute_result"
    }
   ],
   "source": [
    "g = 2255.225482,629.9553062,11601.63022,25306.82494,27266.40335,19466.99052,588.3691778,2890.345675,24733.62696,1445.760002,4803.398244,2618.876037,590.4521124,665.7982328,7122.938458,2639.54156,3362.4656,15378.16704,30860.12808,2579.115607,6525.541272,229.6769525,2242.689259,27570.4852,23016.84778,1334.646773,402.6953275,6047.200797,394.1156638,385.5793827,1414.072488,5745.981529,837.7464011,1206.991065,27715.52837,18937.24998,39578.07441,478.2194906,16684.21278,279.2204061,5345.213415,6288.25324,1908.304416,274.8728621,14646.42094,40034.85063,672.1547506,3359.517402,36152.66676,3054.727742,33529.83052,3825.093781,15428.32098,33630.24604,39170.41371,2699.123242,21058.43643,28272.40661,37691.02733,9581.05659,5671.912202,757.4009286,347.7456605\n",
    "gdp = np.array(g)\n",
    "gdp"
   ]
  },
  {
   "cell_type": "code",
   "execution_count": 9,
   "id": "f0c741e8",
   "metadata": {},
   "outputs": [
    {
     "data": {
      "text/plain": [
       "40034.85063"
      ]
     },
     "execution_count": 9,
     "metadata": {},
     "output_type": "execute_result"
    }
   ],
   "source": [
    "#Use the argmax() method to find the highest GDP\n",
    "gdp.max()"
   ]
  },
  {
   "cell_type": "code",
   "execution_count": 11,
   "id": "a46ed1ad",
   "metadata": {},
   "outputs": [
    {
     "data": {
      "text/plain": [
       "45"
      ]
     },
     "execution_count": 11,
     "metadata": {},
     "output_type": "execute_result"
    }
   ],
   "source": [
    "np.argmax(gdp)"
   ]
  },
  {
   "cell_type": "code",
   "execution_count": 12,
   "id": "a6cc2f05",
   "metadata": {},
   "outputs": [
    {
     "name": "stdout",
     "output_type": "stream",
     "text": [
      "Norway\n"
     ]
    }
   ],
   "source": [
    "#Print the name of the country\n",
    "print(countries[45])\n"
   ]
  },
  {
   "cell_type": "markdown",
   "id": "ecf7240f",
   "metadata": {},
   "source": [
    "#### 3: Find and print the name of the country with the lowest GDP"
   ]
  },
  {
   "cell_type": "code",
   "execution_count": 13,
   "id": "45f37c49",
   "metadata": {},
   "outputs": [
    {
     "data": {
      "text/plain": [
       "21"
      ]
     },
     "execution_count": 13,
     "metadata": {},
     "output_type": "execute_result"
    }
   ],
   "source": [
    "#Use the argmin() method to find the lowest GDP\n",
    "np.argmin(gdp)"
   ]
  },
  {
   "cell_type": "code",
   "execution_count": 14,
   "id": "85e7422e",
   "metadata": {},
   "outputs": [
    {
     "name": "stdout",
     "output_type": "stream",
     "text": [
      "Ethiopia\n"
     ]
    }
   ],
   "source": [
    "#Print the name of the country\n",
    "print(countries[21])"
   ]
  },
  {
   "cell_type": "markdown",
   "id": "d770bfe9",
   "metadata": {},
   "source": [
    "#### 4: Print out text ('evaluating country') and input value ('country name') iteratively"
   ]
  },
  {
   "cell_type": "code",
   "execution_count": null,
   "id": "6c72d4e6",
   "metadata": {},
   "outputs": [],
   "source": [
    "#Use a for loop to print the required output\n"
   ]
  },
  {
   "cell_type": "markdown",
   "id": "c4d9e50f",
   "metadata": {},
   "source": [
    "#### 5: Print out the entire list of the countries with their GDPs"
   ]
  },
  {
   "cell_type": "code",
   "execution_count": 22,
   "id": "fbe1e66d",
   "metadata": {},
   "outputs": [
    {
     "name": "stdout",
     "output_type": "stream",
     "text": [
      "('Algeria', 2255.225482)\n",
      "('Angola', 629.9553062)\n",
      "('Argentina', 11601.63022)\n",
      "('Australia', 25306.82494)\n",
      "('Austria', 27266.40335)\n",
      "('Bahamas', 19466.99052)\n",
      "('Bangladesh', 588.3691778)\n",
      "('Belarus', 2890.345675)\n",
      "('Belgium', 24733.62696)\n",
      "('Bhutan', 1445.760002)\n",
      "('Brazil', 4803.398244)\n",
      "('Bulgaria', 2618.876037)\n",
      "('Cambodia', 590.4521124)\n",
      "('Cameroon', 665.7982328)\n",
      "('Chile', 7122.938458)\n",
      "('China', 2639.54156)\n",
      "('Colombia', 3362.4656)\n",
      "('Cyprus', 15378.16704)\n",
      "('Denmark', 30860.12808)\n",
      "('El Salvador', 2579.115607)\n",
      "('Estonia', 6525.541272)\n",
      "('Ethiopia', 229.6769525)\n",
      "('Fiji', 2242.689259)\n",
      "('Finland', 27570.4852)\n",
      "('France', 23016.84778)\n",
      "('Georgia', 1334.646773)\n",
      "('Ghana', 402.6953275)\n",
      "('Grenada', 6047.200797)\n",
      "('Guinea', 394.1156638)\n",
      "('Haiti', 385.5793827)\n",
      "('Honduras', 1414.072488)\n",
      "('Hungary', 5745.981529)\n",
      "('India', 837.7464011)\n",
      "('Indonesia', 1206.991065)\n",
      "('Ireland', 27715.52837)\n",
      "('Italy', 18937.24998)\n",
      "('Japan', 39578.07441)\n",
      "('Kenya', 478.2194906)\n",
      "('South Korea', 16684.21278)\n",
      "('Liberia', 279.2204061)\n",
      "('Malaysia', 5345.213415)\n",
      "('Mexico', 6288.25324)\n",
      "('Morocco', 1908.304416)\n",
      "('Nepal', 274.8728621)\n",
      "('New Zealand', 14646.42094)\n",
      "('Norway', 40034.85063)\n",
      "('Pakistan', 672.1547506)\n",
      "('Peru', 3359.517402)\n",
      "('Qatar', 36152.66676)\n",
      "('Russia', 3054.727742)\n",
      "('Singapore', 33529.83052)\n",
      "('South Africa', 3825.093781)\n",
      "('Spain', 15428.32098)\n",
      "('Sweden', 33630.24604)\n",
      "('Switzerland', 39170.41371)\n",
      "('Thailand', 2699.123242)\n",
      "('United Arab Emirates', 21058.43643)\n",
      "('United Kingdom', 28272.40661)\n",
      "('United States', 37691.02733)\n",
      "('Uruguay', 9581.05659)\n",
      "('Venezuela', 5671.912202)\n",
      "('Vietnam', 757.4009286)\n",
      "('Zimbabwe', 347.7456605)\n"
     ]
    }
   ],
   "source": [
    "for cnt in zip(countries,gdp):\n",
    "    print(cnt)"
   ]
  },
  {
   "cell_type": "markdown",
   "id": "90da29a6",
   "metadata": {},
   "source": [
    "# 6: Print the following:\n",
    "1. Highest GPD value\n",
    "2. Lowest GDP value\n",
    "3. Mean GDP value\n",
    "4. Standardized GDP value\n",
    "5. Sum of all the GDPs"
   ]
  },
  {
   "cell_type": "markdown",
   "id": "33d07755",
   "metadata": {},
   "source": [
    "# "
   ]
  },
  {
   "cell_type": "code",
   "execution_count": 33,
   "id": "89658725",
   "metadata": {},
   "outputs": [
    {
     "data": {
      "text/plain": [
       "40034.85063"
      ]
     },
     "execution_count": 33,
     "metadata": {},
     "output_type": "execute_result"
    }
   ],
   "source": [
    "# high\n",
    "np.max(gdp)"
   ]
  },
  {
   "cell_type": "code",
   "execution_count": 31,
   "id": "f9aa1323",
   "metadata": {},
   "outputs": [
    {
     "data": {
      "text/plain": [
       "229.6769525"
      ]
     },
     "execution_count": 31,
     "metadata": {},
     "output_type": "execute_result"
    }
   ],
   "source": [
    "# min\n",
    "np.min(gdp)"
   ]
  },
  {
   "cell_type": "code",
   "execution_count": 30,
   "id": "e085c55a",
   "metadata": {},
   "outputs": [
    {
     "data": {
      "text/plain": [
       "11289.409271639683"
      ]
     },
     "execution_count": 30,
     "metadata": {},
     "output_type": "execute_result"
    }
   ],
   "source": [
    "#mean\n",
    "np.mean(gdp)"
   ]
  },
  {
   "cell_type": "code",
   "execution_count": 29,
   "id": "1b698fcc",
   "metadata": {},
   "outputs": [
    {
     "data": {
      "text/plain": [
       "711232.7841133"
      ]
     },
     "execution_count": 29,
     "metadata": {},
     "output_type": "execute_result"
    }
   ],
   "source": [
    "# sum\n",
    "np.sum(gdp)"
   ]
  },
  {
   "cell_type": "code",
   "execution_count": 28,
   "id": "50df6003",
   "metadata": {},
   "outputs": [
    {
     "data": {
      "text/plain": [
       "12743.828910617945"
      ]
     },
     "execution_count": 28,
     "metadata": {},
     "output_type": "execute_result"
    }
   ],
   "source": [
    "np.std(gdp)"
   ]
  },
  {
   "cell_type": "code",
   "execution_count": null,
   "id": "2a23491d",
   "metadata": {},
   "outputs": [],
   "source": []
  }
 ],
 "metadata": {
  "kernelspec": {
   "display_name": "Python 3 (ipykernel)",
   "language": "python",
   "name": "python3"
  },
  "language_info": {
   "codemirror_mode": {
    "name": "ipython",
    "version": 3
   },
   "file_extension": ".py",
   "mimetype": "text/x-python",
   "name": "python",
   "nbconvert_exporter": "python",
   "pygments_lexer": "ipython3",
   "version": "3.9.7"
  }
 },
 "nbformat": 4,
 "nbformat_minor": 5
}
