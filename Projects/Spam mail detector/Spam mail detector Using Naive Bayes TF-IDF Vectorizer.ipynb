{
 "cells": [
  {
   "cell_type": "code",
   "execution_count": 1,
   "id": "grave-deficit",
   "metadata": {},
   "outputs": [],
   "source": [
    "# tf = number of repeated word in a sentence / total word in a sentence\n",
    "# idf = log(total number of sentence/ no of sentence that contains the word)\n",
    "\n"
   ]
  },
  {
   "cell_type": "code",
   "execution_count": 2,
   "id": "foreign-throat",
   "metadata": {},
   "outputs": [],
   "source": [
    "# data set link : https://www.kaggle.com/rockinjas123/spam-ham-emails\n",
    "# import\n",
    "import numpy as np;\n",
    "import seaborn as sb\n",
    "import pandas as pd\n",
    "from sklearn.model_selection import train_test_split\n",
    "from sklearn.feature_extraction.text import CountVectorizer"
   ]
  },
  {
   "cell_type": "code",
   "execution_count": 3,
   "id": "unauthorized-ranch",
   "metadata": {},
   "outputs": [],
   "source": [
    "# import dataset\n",
    "df = pd.read_csv('emails.csv')"
   ]
  },
  {
   "cell_type": "code",
   "execution_count": 4,
   "id": "different-fabric",
   "metadata": {},
   "outputs": [
    {
     "data": {
      "text/html": [
       "<div>\n",
       "<style scoped>\n",
       "    .dataframe tbody tr th:only-of-type {\n",
       "        vertical-align: middle;\n",
       "    }\n",
       "\n",
       "    .dataframe tbody tr th {\n",
       "        vertical-align: top;\n",
       "    }\n",
       "\n",
       "    .dataframe thead th {\n",
       "        text-align: right;\n",
       "    }\n",
       "</style>\n",
       "<table border=\"1\" class=\"dataframe\">\n",
       "  <thead>\n",
       "    <tr style=\"text-align: right;\">\n",
       "      <th></th>\n",
       "      <th>text</th>\n",
       "      <th>spam</th>\n",
       "    </tr>\n",
       "  </thead>\n",
       "  <tbody>\n",
       "    <tr>\n",
       "      <th>0</th>\n",
       "      <td>Subject: naturally irresistible your corporate...</td>\n",
       "      <td>1</td>\n",
       "    </tr>\n",
       "    <tr>\n",
       "      <th>1</th>\n",
       "      <td>Subject: the stock trading gunslinger  fanny i...</td>\n",
       "      <td>1</td>\n",
       "    </tr>\n",
       "    <tr>\n",
       "      <th>2</th>\n",
       "      <td>Subject: unbelievable new homes made easy  im ...</td>\n",
       "      <td>1</td>\n",
       "    </tr>\n",
       "    <tr>\n",
       "      <th>3</th>\n",
       "      <td>Subject: 4 color printing special  request add...</td>\n",
       "      <td>1</td>\n",
       "    </tr>\n",
       "    <tr>\n",
       "      <th>4</th>\n",
       "      <td>Subject: do not have money , get software cds ...</td>\n",
       "      <td>1</td>\n",
       "    </tr>\n",
       "    <tr>\n",
       "      <th>...</th>\n",
       "      <td>...</td>\n",
       "      <td>...</td>\n",
       "    </tr>\n",
       "    <tr>\n",
       "      <th>5723</th>\n",
       "      <td>Subject: re : research and development charges...</td>\n",
       "      <td>0</td>\n",
       "    </tr>\n",
       "    <tr>\n",
       "      <th>5724</th>\n",
       "      <td>Subject: re : receipts from visit  jim ,  than...</td>\n",
       "      <td>0</td>\n",
       "    </tr>\n",
       "    <tr>\n",
       "      <th>5725</th>\n",
       "      <td>Subject: re : enron case study update  wow ! a...</td>\n",
       "      <td>0</td>\n",
       "    </tr>\n",
       "    <tr>\n",
       "      <th>5726</th>\n",
       "      <td>Subject: re : interest  david ,  please , call...</td>\n",
       "      <td>0</td>\n",
       "    </tr>\n",
       "    <tr>\n",
       "      <th>5727</th>\n",
       "      <td>Subject: news : aurora 5 . 2 update  aurora ve...</td>\n",
       "      <td>0</td>\n",
       "    </tr>\n",
       "  </tbody>\n",
       "</table>\n",
       "<p>5728 rows × 2 columns</p>\n",
       "</div>"
      ],
      "text/plain": [
       "                                                   text  spam\n",
       "0     Subject: naturally irresistible your corporate...     1\n",
       "1     Subject: the stock trading gunslinger  fanny i...     1\n",
       "2     Subject: unbelievable new homes made easy  im ...     1\n",
       "3     Subject: 4 color printing special  request add...     1\n",
       "4     Subject: do not have money , get software cds ...     1\n",
       "...                                                 ...   ...\n",
       "5723  Subject: re : research and development charges...     0\n",
       "5724  Subject: re : receipts from visit  jim ,  than...     0\n",
       "5725  Subject: re : enron case study update  wow ! a...     0\n",
       "5726  Subject: re : interest  david ,  please , call...     0\n",
       "5727  Subject: news : aurora 5 . 2 update  aurora ve...     0\n",
       "\n",
       "[5728 rows x 2 columns]"
      ]
     },
     "execution_count": 4,
     "metadata": {},
     "output_type": "execute_result"
    }
   ],
   "source": [
    "df\n",
    "# text is the feature and spam is the label(independent)"
   ]
  },
  {
   "cell_type": "code",
   "execution_count": 5,
   "id": "amateur-superintendent",
   "metadata": {},
   "outputs": [
    {
     "data": {
      "text/plain": [
       "0    4360\n",
       "1    1368\n",
       "Name: spam, dtype: int64"
      ]
     },
     "execution_count": 5,
     "metadata": {},
     "output_type": "execute_result"
    }
   ],
   "source": [
    "df['spam'].value_counts()"
   ]
  },
  {
   "cell_type": "code",
   "execution_count": 6,
   "id": "increased-disposal",
   "metadata": {},
   "outputs": [],
   "source": [
    "# drop the duplicate values\n",
    "df.drop_duplicates(inplace = True)"
   ]
  },
  {
   "cell_type": "code",
   "execution_count": 7,
   "id": "arctic-hebrew",
   "metadata": {},
   "outputs": [
    {
     "data": {
      "text/plain": [
       "0    4327\n",
       "1    1368\n",
       "Name: spam, dtype: int64"
      ]
     },
     "execution_count": 7,
     "metadata": {},
     "output_type": "execute_result"
    }
   ],
   "source": [
    "df['spam'].value_counts()\n",
    "# some duplicate ham mails were drops..count droped from 4360 to 4327"
   ]
  },
  {
   "cell_type": "code",
   "execution_count": 8,
   "id": "civilian-distance",
   "metadata": {},
   "outputs": [
    {
     "data": {
      "text/html": [
       "<div>\n",
       "<style scoped>\n",
       "    .dataframe tbody tr th:only-of-type {\n",
       "        vertical-align: middle;\n",
       "    }\n",
       "\n",
       "    .dataframe tbody tr th {\n",
       "        vertical-align: top;\n",
       "    }\n",
       "\n",
       "    .dataframe thead th {\n",
       "        text-align: right;\n",
       "    }\n",
       "</style>\n",
       "<table border=\"1\" class=\"dataframe\">\n",
       "  <thead>\n",
       "    <tr style=\"text-align: right;\">\n",
       "      <th></th>\n",
       "      <th>text</th>\n",
       "      <th>spam</th>\n",
       "    </tr>\n",
       "  </thead>\n",
       "  <tbody>\n",
       "    <tr>\n",
       "      <th>0</th>\n",
       "      <td>Subject: naturally irresistible your corporate...</td>\n",
       "      <td>1</td>\n",
       "    </tr>\n",
       "    <tr>\n",
       "      <th>1</th>\n",
       "      <td>Subject: the stock trading gunslinger  fanny i...</td>\n",
       "      <td>1</td>\n",
       "    </tr>\n",
       "    <tr>\n",
       "      <th>2</th>\n",
       "      <td>Subject: unbelievable new homes made easy  im ...</td>\n",
       "      <td>1</td>\n",
       "    </tr>\n",
       "    <tr>\n",
       "      <th>3</th>\n",
       "      <td>Subject: 4 color printing special  request add...</td>\n",
       "      <td>1</td>\n",
       "    </tr>\n",
       "    <tr>\n",
       "      <th>4</th>\n",
       "      <td>Subject: do not have money , get software cds ...</td>\n",
       "      <td>1</td>\n",
       "    </tr>\n",
       "    <tr>\n",
       "      <th>...</th>\n",
       "      <td>...</td>\n",
       "      <td>...</td>\n",
       "    </tr>\n",
       "    <tr>\n",
       "      <th>5723</th>\n",
       "      <td>Subject: re : research and development charges...</td>\n",
       "      <td>0</td>\n",
       "    </tr>\n",
       "    <tr>\n",
       "      <th>5724</th>\n",
       "      <td>Subject: re : receipts from visit  jim ,  than...</td>\n",
       "      <td>0</td>\n",
       "    </tr>\n",
       "    <tr>\n",
       "      <th>5725</th>\n",
       "      <td>Subject: re : enron case study update  wow ! a...</td>\n",
       "      <td>0</td>\n",
       "    </tr>\n",
       "    <tr>\n",
       "      <th>5726</th>\n",
       "      <td>Subject: re : interest  david ,  please , call...</td>\n",
       "      <td>0</td>\n",
       "    </tr>\n",
       "    <tr>\n",
       "      <th>5727</th>\n",
       "      <td>Subject: news : aurora 5 . 2 update  aurora ve...</td>\n",
       "      <td>0</td>\n",
       "    </tr>\n",
       "  </tbody>\n",
       "</table>\n",
       "<p>5695 rows × 2 columns</p>\n",
       "</div>"
      ],
      "text/plain": [
       "                                                   text  spam\n",
       "0     Subject: naturally irresistible your corporate...     1\n",
       "1     Subject: the stock trading gunslinger  fanny i...     1\n",
       "2     Subject: unbelievable new homes made easy  im ...     1\n",
       "3     Subject: 4 color printing special  request add...     1\n",
       "4     Subject: do not have money , get software cds ...     1\n",
       "...                                                 ...   ...\n",
       "5723  Subject: re : research and development charges...     0\n",
       "5724  Subject: re : receipts from visit  jim ,  than...     0\n",
       "5725  Subject: re : enron case study update  wow ! a...     0\n",
       "5726  Subject: re : interest  david ,  please , call...     0\n",
       "5727  Subject: news : aurora 5 . 2 update  aurora ve...     0\n",
       "\n",
       "[5695 rows x 2 columns]"
      ]
     },
     "execution_count": 8,
     "metadata": {},
     "output_type": "execute_result"
    }
   ],
   "source": [
    "df"
   ]
  },
  {
   "cell_type": "code",
   "execution_count": 9,
   "id": "political-dairy",
   "metadata": {},
   "outputs": [
    {
     "data": {
      "text/plain": [
       "text    0\n",
       "spam    0\n",
       "dtype: int64"
      ]
     },
     "execution_count": 9,
     "metadata": {},
     "output_type": "execute_result"
    }
   ],
   "source": [
    "df.isnull().sum()"
   ]
  },
  {
   "cell_type": "markdown",
   "id": "national-ranking",
   "metadata": {},
   "source": [
    "## Seperating the x and y from dataset "
   ]
  },
  {
   "cell_type": "code",
   "execution_count": 10,
   "id": "early-bunny",
   "metadata": {},
   "outputs": [],
   "source": [
    "x = df.text.values\n",
    "y = df.spam.values"
   ]
  },
  {
   "cell_type": "code",
   "execution_count": 11,
   "id": "exempt-archives",
   "metadata": {},
   "outputs": [
    {
     "data": {
      "text/plain": [
       "array([1, 1, 1, ..., 0, 0, 0], dtype=int64)"
      ]
     },
     "execution_count": 11,
     "metadata": {},
     "output_type": "execute_result"
    }
   ],
   "source": [
    "y"
   ]
  },
  {
   "cell_type": "markdown",
   "id": "raising-processing",
   "metadata": {},
   "source": [
    "## split dataset for training"
   ]
  },
  {
   "cell_type": "code",
   "execution_count": 12,
   "id": "missing-stranger",
   "metadata": {},
   "outputs": [],
   "source": [
    "xtrain,xtest,ytrain,ytest = train_test_split(x,y,test_size = 0.2)"
   ]
  },
  {
   "cell_type": "code",
   "execution_count": 13,
   "id": "representative-remedy",
   "metadata": {},
   "outputs": [
    {
     "data": {
      "text/plain": [
       "array([\"Subject: re : approval for paulo issler  anita ,  good decision .  vince  anita dupont @ enron  02 / 23 / 2001 12 : 13 pm  to : shirley crenshaw / hou / ect @ ect  cc : vince j kaminski / hou / ect @ ect  subject : re : approval for paulo issler  fyi : carolyn needed approval today for charges relating to paulo ' s green  card process . mike was the only vp here today so i asked him to approve  them . hope that was alright . anita  - - - - - - - - - - - - - - - - - - - - - - forwarded by anita dupont / na / enron on 02 / 23 / 2001 12 : 06  pm - - - - - - - - - - - - - - - - - - - - - - - - - - -  mike a roberts @ ect  02 / 23 / 2001 11 : 04 am  to : carolyn wedel / enron @ enronxgate @ enron  cc : anita dupont / na / enron @ enron  subject : re : approval for paulo issler  carolyn ,  approval to post the attached charges for paulo issler is granted .  mike roberts  v . p . research\",\n",
       "       'Subject: 4 - urgent - owa please print this now .  current notes user :  reasons for using outlook web access ( owa )  1 . once your mailbox has been migrated from notes to outlook , the outlook  client will be configured on your computer .  after migration of your mailbox , you will not be able to send or recieve mail  via notes , and you will not be able to start using outlook until it is  configured by the outlook migration team the morning after your mailbox is  migrated . during this period , you can use outlook web access ( owa ) via your  web browser ( internet explorer 5 . 0 ) to read and send mail .  please note : your calendar entries , personal address book , journals , and  to - do entries imported from notes will not be available until the outlook  client is configured on your desktop .  2 . remote access to your mailbox .  after your outlook client is configured , you can use outlook web access ( owa )  for remote access to your mailbox .  please note : at this time , the owa client is only accessible while  connecting to the enron network ( lan ) . there are future plans to make owa  available from your home or when traveling abroad .  how to access outlook web access ( owa )  launch internet explorer 5 . 0 , and in the address window type :  http : / / nahou - msowaolp / exchange / john . doe  substitute \" john . doe \" with your first and last name , then click enter . you  will be prompted with a sign in box as shown below . type in \" corp / your user  id \" for the user name and your nt password to logon to owa and click ok . you  will now be able to view your mailbox .  please note : there are some subtle differences in the functionality between  the outlook and owa clients . you will not be able to do many of the things  in owa that you can do in outlook . below is a brief list of * some * of the  functions not available via owa :  features not available using owa :  - tasks  - journal  - spell checker  - offline use  - printing templates  - reminders  - timed delivery  - expiration  - outlook rules  - voting , message flags and message recall  - sharing contacts with others  - task delegation  - direct resource booking  - personal distribution lists  questions or concerns ?  if you have questions or concerns using the owa client , please contact the  outlook 2000 question and answer mailbox at :  outlook . 2000 @ enron . com  otherwise , you may contact the resolution center at :  713 - 853 - 1411  thank you ,  outlook 2000 migration team',\n",
       "       'Subject: new stock : shooting stars stock report  a drib is admix vishnu but elegiac what newspaper ,  eagle not acrimony .  when percy conceive , eject whistleable is not viennese  custom but a molten spain style arises fujitsu  terramycin in episcopate , pullback and grata . would you  connallyatalanta ?  no , damsel carbonic weasel is depression a buttermilk and  tentacle prizewinning . ',\n",
       "       ...,\n",
       "       \"Subject: commercialization of nasa technology  hey , i thought you might like to take a look at viaspace  the cohen report  viaspace was founded in 1998 as a spin - off of the caltech / nasa jet propulsion laboratory ( jpl ) to transform technologies originally developed for space and defense markets into profitable commercial enterprises . viaspace seeks opportunities in high growth markets delivering on problems with growing global relevance by leveraging unique expertise not available elsewhere in the commercial world . viaspace sees a compelling business opportunity in the homeland security public safety and fuel cell markets . viaspace target markets are in excess of $ 100 b / yr and growing with a cagr of over 20 % . in the past six years viaspace has created three companies , spectrasensors , qwip technologies and vialogy corp . their websites provide a background on the commercialization of nasa technology , ( spectrasensors . com , qwip . com , vialogy . com ) . the company ' s current focus is on three subsidiaries , direct methanol fuel cell , arroyo sciences and ionfinity .  direct liquid methanol fuel cell  direct methanol fuel cell corporation ( dmfcc ) will provide disposable methanol fuel cell cartridges for tomorrow ' s fuel cell - powered portable electronic devices such as laptop computers and cell phones . methanol fuel cells ( dfmc ) are expected to replace lithium ion batteries in portable electronic devices . a dfmc can power a laptop for up to 10 hours on a disposable cartridge that costs $ 2 to $ 3 . a smaller cartridge can power a cell phone for up to 3 weeks . we believe consumers will spend a few extra dollars for the convenience of keeping their cell phones and other electronic devices operating . as a disposable product , it generates recurring revenue for dmfcc .  the technology is protected by over 70 issued and pending patents . toshiba , nec , sanyo , and samsung have unveiled prototype fuel cell powered products that more than double the operating time over existing battery technology . dmfcc has opened a tokyo office to work closely with japanese manufacturers .  arroyo sciences , inc .  arroyo focuses on the fusion of radio frequency , nuclear and electromagnetic imaging to deliver information products in transportation , supply chain , security , logistics assurance and first responder safety markets . the micro tracker product enables a wireless tracking for first responders in hazardous environments . this product combines radio frequency identification ( rfid ) tags , wireless digital communications , ground positioning satellite ( gps ) , data for 2 - d and 3 - d geolocation determination , geographic information system ( gis ) and sensor technologies . real - time processing of many high data content inputs is required for the instantaneous assessment of danger . applications include improved safety for fire department personnel in emergency situations , improved coordination of multi - agency deployments and extended operations in hazardous environments .  the cobra product uses the imaging and sensing technology to provide early threat indicators for coastal surveillance and public infrastructure protection such as ports , power plants , airports , and telecommunication facilities . real time sensory and image data is processed and software is customized to discriminate between friend and foe .  deepscan is a software system that provides automatic analysis of air and seaport cargo containers based on x - ray and gamma ray imaging . arroyo is currently using deepscan for bomb and hazardous material detection in cargo .  ionfinity  ionfinity has developed the next generation mass spectrometry ( ms ) technology that is 10 times more sensitive than existing ms , with a 10 times increase in mass range . higher sensitivity enables the comprehensive monitoring and detection of biological , chemical and nuclear contaminants . the current market for ms is estimated at $ 1 . 2 billion annually . the compact size and rugged portability will expand the market . new applications include enabling port inspection personnel to detect traces of contraband , epa air quality monitoring and assisting in hazardous material clean up .  additional projects under review  projects not included in our forecast are ( 1 ) a water purification technology and ( 2 ) interactive radio . the water purification system displays impressive statistics in that it can convert brackish , sewage or industrial wastewater into ultra - pure water . the water system is scalable from house to municipal usage and will last 25 years while requiring minimal maintenance . the interactive radio enables a listener to receive emails or web sites delivered in response to what is broadcast . the radio station essentially receives input from listeners that could enhance advertising and improve vertical market focus .  forecasts and valuation  we expect revenues for dmfcc will be driven by ( 1 ) increasing wireless usage of computing devices and ( 2 ) the existing need to extend cell phone battery life . we expect revenues for dmfcc will commence in 2007 and grow to $ 195 million by 2009 . homeland security expenditures on airport and seaport security will be a primary revenue driver for arroyo sciences , which will begin to generate revenues in 2005 , and will grow to $ 90 million in 2009 . we expect commercial revenues for ionfinity will commence in late 2007 , and will be $ 10 million in 2009 . beyond 2009 , total revenues will grow at a 60 % to 80 % rate for several years from existing and new products . contracting with existing manufacturers , we expect operating margins will be in the low 40 % range by 2009 . our initial forecasts indicate a fair value range from $ 8 . 40 to $ 11 . 10 based on the projected growth for the 2009 to 2012 timeframe . the graph below outlines our valuation analysis .  directors and management  dr . carl kukkonen , is the ceo and founding partner . dr kukkonen was director for space microelectronics and manager of supercomputing at caltech / jpl , where he worked for 14 years . prior to jpl , dr . kukkonen was the leading expert on hydrogen as alternative fuel at ford motor company .  aj abdallat , coo , and vp of business development has been with viaspace since inception , after working in business development at hewlett - packard and control data corporation .  dr . sandeep gulati has been with viaspace since 2000 . during the prior 12 years , dr gulati was head of the ultracomputing technologies at nasas jpl . dr . gulati is the developer of the revolutionary signal processing technology , qri .  viaspace overview  viaspace was formed in july 1998 with an objective of transforming technologies from caltech / nasa ' s jet propulsion laboratory and other advanced technology centers into profitable commercial enterprises through its strong connections with the advanced technology community . through its three subsidiaries - - arroyo sciences , ionfinity , and direct methanol fuel cell corporation ( dmfcc ) - - viaspace has a diversified high tech portfolio that includes microelectronics , sensors , homeland security public safety , energy / - fuel cells , information computational technology , rfid , e - finance , and mobile e - commerce .  viaspace develops proven space and defense technologies into hardware and software products that fulfill high - growth market needs and solve today ' s complex problems .  viaspace benefits from important licenses and strategic relationships with caltech / nasa ' s jet propulsion laboratory and other universities research laboratories . the viaspace team has a proven expertise for the successful commercialization of innovations in information technology , physical science and life sciences developed at academic research institutions and national laboratories .  the company currently focuses on technologies originally developed for nasa and the us department of defense that have already reached a certain stage of maturity . initial investments in these technologies amount to millions of dollars and many years of rd , enabling viaspace to manage the commercialization process with only a modest additional investment and greatly reduced technical risk .  viaspace couples exceptional technology sourcing and validation capability with a demand - driven process of market validation . decisions about technology transfer and product development are based , first and foremost , on market needs . in addition to our internal expertise , viaspace benefits from the domain expertise of leading experts that serve on our scientific and business advisory boards and from an informal global network of researchers , technology analysts , and technology professionals and investors that would be hard to replicate .  in the last six years , viaspace and its subsidiaries have secured more than $ 30 million in venture financing and strategic investment . initial investors include hewlett packard , divine interventures , los angeles county community development commission , blueprint ventures , the united company , bioprojects international , forrest binkley brown , american river ventures , and nth power .  viaspace has spawned 3 companies : spectrasensors  ( www . spectrasensors . com ) , qwip technologies  ( www . qwip . com ) , and vialogy corp ( www . vialogy . com ) . these companies , currently at various stages of maturity , are positioned within high growth markets and poised for profitability . today , viaspace focuses its effort on its three subsidiaries - - arroyo sciences , ionfinity , and direct methanol fuel cell corporation ( dmfcc ) - - and on new high technology opportunities . view full report  view full report  to join market movers mailings press here to find out more .  2400 lincoln ave  altadena , ca 91001  safe harbor statement  this information is a paid advertisement . any views expressed herein are provided for information purposes only and should not be construed as an offer , an endorsement , or inducement to buy or sell securities . bronks communications , inc . ( bci ) received compensation for printing and distributing this ad from a third party as an effort to build investor awareness about viaspace inc . ( vspc ) . the compensation is one hundred thousand dollars . this compensation constitutes a conflict of interest as to bci ' s ability to remain objective in our communication regarding vspc . bci owns 1 , 000 shares of common stock in vspc . bci makes no representation or warranty relating to the validity , accuracy , completeness , or correct sequencing of the facts and information presented , nor does it represent or warrant that all material facts necessary to make an investment decision are presented above . factual statements contained in this ad are subject to change without notice . past performance does not guarantee future results . bci is not a registered investment advisor , broker or dealer . all statements of opinion , if any , are those of the analysts , who relied on information believed to be reliable , such as vspc ' s public filings , business documents , and its web sites . the analysts ' reports are for information purposes only . the analysts were contracted by bci to write their reports and were paid a total of fifteen thousand five hundred dollars . independent analyst reports in this ad do not constitute an individualized recommendation to you to buy or sell a particular security . any opinions , estimates , or forecasts about vspc or predicted performance made by the analysts in this ad are theirs alone and do not represent opinions , forecasts or predictions of bci . interested persons must obtain the analysts ' full reports on their own . the analysts ' reports do not purport to be complete and are not intended to be used as a primary basis for investment decisions . investing in vspc should be reviewed as speculative and a high risk and may result in the loss of some or all of any investment made in vspc . further specific financial information , filings , and disclosures , as well as general investor information about publicly traded companies are available at the securities and exchange commission website www . sec . gov and www . nasd . com . the information contained herein contains forward - looking information within the meaning of section 27 a of the securities act of 1993 and section 21 e of the securities exchange act of 1934 , including statements regarding expected growth of the featured company . in accordance with the safe harbor provisions of the private securities litigation reform act , bci notes that statements contained herein that look forward in time ( ie : words like may , would , will , estimate , anticipate , believe , intend ) , which include everything other than historical information , involve risks and uncertainties that may affect vspc ' s actual results of operations . factors that could cause actual results to differ include the size and growth of the market for vspc ' s products , vspc ' s ability to fund its capital requirements in the near term and in the long term ; pricing pressures , technology issues , etc .  media matrix 7025 county rd . 46 a dte 1071 # 349 lake mary , fl 32746 this e - mail message is an advertisement and / or solicitation . \",\n",
       "       \"Subject: rosters ( rice university )  i have enclosed your latest rosters for mgmt 656 : energy derivatives . the  word document is your official rosters . the excel document is a list of  names with e - mail addresses . i ' ll keep you updated as students  add / drop . as always , let me know if you have any questions .  pamela castro  mba program associate  rice university  713 - 348 - 6223  - 656 . xls  - 656 . doc\",\n",
       "       'Subject: re : mid - project review dates - enron  hi donna ! !  please sign the enron team up for feb . 20 th .  thanks ! ! ! . . . and thanks for all your help last week ! everyone at enron is  enthusiastic about the project , and the students have been very gracious in  their \" thank you \" notes .  we \\' re looking forward to the video conference thursday . my assistant ,  melinda mccarty , will contact you to make sure we \\' re \" reciprocally \" in sinc  for the broadcast .  thanks !  - - christie .'],\n",
       "      dtype=object)"
      ]
     },
     "execution_count": 13,
     "metadata": {},
     "output_type": "execute_result"
    }
   ],
   "source": [
    "xtrain"
   ]
  },
  {
   "cell_type": "code",
   "execution_count": 14,
   "id": "boring-growth",
   "metadata": {},
   "outputs": [
    {
     "data": {
      "text/plain": [
       "array([0, 0, 1, ..., 1, 0, 0], dtype=int64)"
      ]
     },
     "execution_count": 14,
     "metadata": {},
     "output_type": "execute_result"
    }
   ],
   "source": [
    "ytrain"
   ]
  },
  {
   "cell_type": "markdown",
   "id": "outdoor-monday",
   "metadata": {},
   "source": [
    "# Data preprocessing"
   ]
  },
  {
   "cell_type": "code",
   "execution_count": 15,
   "id": "flexible-banner",
   "metadata": {},
   "outputs": [],
   "source": [
    "cv = CountVectorizer()\n",
    "x_train = cv.fit_transform(xtrain)"
   ]
  },
  {
   "cell_type": "code",
   "execution_count": 16,
   "id": "leading-musical",
   "metadata": {},
   "outputs": [
    {
     "data": {
      "text/plain": [
       "array([[0, 0, 0, ..., 0, 0, 0],\n",
       "       [0, 0, 0, ..., 0, 0, 0],\n",
       "       [0, 0, 0, ..., 0, 0, 0],\n",
       "       ...,\n",
       "       [0, 1, 0, ..., 0, 0, 0],\n",
       "       [0, 0, 0, ..., 0, 0, 0],\n",
       "       [0, 0, 0, ..., 0, 0, 0]], dtype=int64)"
      ]
     },
     "execution_count": 16,
     "metadata": {},
     "output_type": "execute_result"
    }
   ],
   "source": [
    "x_train.toarray()"
   ]
  },
  {
   "cell_type": "markdown",
   "id": "special-temple",
   "metadata": {},
   "source": [
    "# ML model"
   ]
  },
  {
   "cell_type": "code",
   "execution_count": 17,
   "id": "deluxe-penetration",
   "metadata": {},
   "outputs": [],
   "source": [
    "from sklearn.naive_bayes import MultinomialNB\n",
    "#MultinomialNB is best suite for text based workd"
   ]
  },
  {
   "cell_type": "code",
   "execution_count": 18,
   "id": "available-facing",
   "metadata": {},
   "outputs": [
    {
     "data": {
      "text/plain": [
       "MultinomialNB()"
      ]
     },
     "execution_count": 18,
     "metadata": {},
     "output_type": "execute_result"
    }
   ],
   "source": [
    "model = MultinomialNB()\n",
    "model.fit(x_train,ytrain)"
   ]
  },
  {
   "cell_type": "code",
   "execution_count": 19,
   "id": "cultural-delhi",
   "metadata": {},
   "outputs": [],
   "source": [
    "x_test = cv.transform(xtest)"
   ]
  },
  {
   "cell_type": "code",
   "execution_count": 20,
   "id": "thousand-hybrid",
   "metadata": {},
   "outputs": [
    {
     "data": {
      "text/plain": [
       "array([[ 0,  0,  0, ...,  0,  0,  0],\n",
       "       [53,  0,  0, ...,  0,  0,  0],\n",
       "       [ 0,  0,  0, ...,  0,  0,  0],\n",
       "       ...,\n",
       "       [ 0,  0,  0, ...,  0,  0,  0],\n",
       "       [ 0,  0,  0, ...,  0,  0,  0],\n",
       "       [ 3,  0,  0, ...,  0,  0,  0]], dtype=int64)"
      ]
     },
     "execution_count": 20,
     "metadata": {},
     "output_type": "execute_result"
    }
   ],
   "source": [
    "x_test.toarray()"
   ]
  },
  {
   "cell_type": "code",
   "execution_count": 21,
   "id": "talented-surfing",
   "metadata": {},
   "outputs": [
    {
     "data": {
      "text/plain": [
       "0.9885864793678666"
      ]
     },
     "execution_count": 21,
     "metadata": {},
     "output_type": "execute_result"
    }
   ],
   "source": [
    "# model accuracy\n",
    "model.score(x_test,ytest)"
   ]
  },
  {
   "cell_type": "code",
   "execution_count": 22,
   "id": "muslim-greece",
   "metadata": {},
   "outputs": [],
   "source": [
    "emails = ['I am looking for ML bengali tutorial', 'You have won a Iphone. Now fill up this adress form']"
   ]
  },
  {
   "cell_type": "code",
   "execution_count": 23,
   "id": "declared-addiction",
   "metadata": {},
   "outputs": [],
   "source": [
    "cv_emails = cv.transform(emails)\n"
   ]
  },
  {
   "cell_type": "code",
   "execution_count": 24,
   "id": "limiting-services",
   "metadata": {},
   "outputs": [
    {
     "data": {
      "text/plain": [
       "<2x33182 sparse matrix of type '<class 'numpy.int64'>'\n",
       "\twith 14 stored elements in Compressed Sparse Row format>"
      ]
     },
     "execution_count": 24,
     "metadata": {},
     "output_type": "execute_result"
    }
   ],
   "source": [
    "cv_emails"
   ]
  },
  {
   "cell_type": "code",
   "execution_count": 25,
   "id": "conscious-helicopter",
   "metadata": {},
   "outputs": [
    {
     "data": {
      "text/plain": [
       "array([0, 1], dtype=int64)"
      ]
     },
     "execution_count": 25,
     "metadata": {},
     "output_type": "execute_result"
    }
   ],
   "source": [
    "model.predict(cv_emails)\n",
    "# here the output 0 means not a ham mail and 1 means it is a spam mail"
   ]
  },
  {
   "cell_type": "markdown",
   "id": "sublime-security",
   "metadata": {},
   "source": [
    "## Performace matrix"
   ]
  },
  {
   "cell_type": "code",
   "execution_count": 26,
   "id": "pursuant-freedom",
   "metadata": {},
   "outputs": [],
   "source": [
    "pred = model.predict(x_test)"
   ]
  },
  {
   "cell_type": "code",
   "execution_count": 27,
   "id": "fiscal-senator",
   "metadata": {},
   "outputs": [
    {
     "data": {
      "text/plain": [
       "array([1, 0, 0, ..., 0, 1, 0], dtype=int64)"
      ]
     },
     "execution_count": 27,
     "metadata": {},
     "output_type": "execute_result"
    }
   ],
   "source": [
    "pred"
   ]
  },
  {
   "cell_type": "code",
   "execution_count": 28,
   "id": "unexpected-kansas",
   "metadata": {},
   "outputs": [],
   "source": [
    "from sklearn.metrics import accuracy_score"
   ]
  },
  {
   "cell_type": "code",
   "execution_count": 29,
   "id": "quiet-caribbean",
   "metadata": {},
   "outputs": [
    {
     "data": {
      "text/plain": [
       "0.9885864793678666"
      ]
     },
     "execution_count": 29,
     "metadata": {},
     "output_type": "execute_result"
    }
   ],
   "source": [
    "# compare trained and test dataset\n",
    "accuracy_score(ytest,pred)"
   ]
  },
  {
   "cell_type": "markdown",
   "id": "sublime-street",
   "metadata": {},
   "source": [
    "## Generate confusion matrix"
   ]
  },
  {
   "cell_type": "code",
   "execution_count": 30,
   "id": "compressed-executive",
   "metadata": {},
   "outputs": [],
   "source": [
    "from sklearn.metrics import confusion_matrix"
   ]
  },
  {
   "cell_type": "code",
   "execution_count": 31,
   "id": "thermal-mission",
   "metadata": {},
   "outputs": [
    {
     "data": {
      "text/plain": [
       "array([[878,   9],\n",
       "       [  4, 248]], dtype=int64)"
      ]
     },
     "execution_count": 31,
     "metadata": {},
     "output_type": "execute_result"
    }
   ],
   "source": [
    "# compare trained and test dataset\n",
    "confusion_matrix(ytest,pred)"
   ]
  },
  {
   "cell_type": "markdown",
   "id": "traditional-record",
   "metadata": {},
   "source": [
    "## classification report"
   ]
  },
  {
   "cell_type": "code",
   "execution_count": 32,
   "id": "middle-chair",
   "metadata": {},
   "outputs": [],
   "source": [
    "from sklearn.metrics import classification_report"
   ]
  },
  {
   "cell_type": "code",
   "execution_count": 33,
   "id": "unique-dictionary",
   "metadata": {},
   "outputs": [
    {
     "name": "stdout",
     "output_type": "stream",
     "text": [
      "              precision    recall  f1-score   support\n",
      "\n",
      "           0       1.00      0.99      0.99       887\n",
      "           1       0.96      0.98      0.97       252\n",
      "\n",
      "    accuracy                           0.99      1139\n",
      "   macro avg       0.98      0.99      0.98      1139\n",
      "weighted avg       0.99      0.99      0.99      1139\n",
      "\n"
     ]
    }
   ],
   "source": [
    "print(classification_report(ytest,pred))"
   ]
  },
  {
   "cell_type": "markdown",
   "id": "deluxe-consent",
   "metadata": {},
   "source": [
    "# K Fold cross validation"
   ]
  },
  {
   "cell_type": "code",
   "execution_count": 34,
   "id": "judicial-indiana",
   "metadata": {},
   "outputs": [],
   "source": [
    "from sklearn.model_selection import cross_val_score"
   ]
  },
  {
   "cell_type": "code",
   "execution_count": 44,
   "id": "healthy-courtesy",
   "metadata": {},
   "outputs": [],
   "source": [
    "# must do data preprocessing beacuse kfold can't have text based data as a input parameter.So convert that into numeric data\n",
    "cv2 = CountVectorizer()\n",
    "x_train2 = cv2.fit_transform(x)\n"
   ]
  },
  {
   "cell_type": "code",
   "execution_count": 41,
   "id": "aging-gateway",
   "metadata": {},
   "outputs": [],
   "source": [
    "cv_score = cross_val_score(model,x_train2,y,cv=10)"
   ]
  },
  {
   "cell_type": "code",
   "execution_count": 42,
   "id": "burning-situation",
   "metadata": {},
   "outputs": [
    {
     "data": {
      "text/plain": [
       "array([0.98421053, 0.99122807, 0.98947368, 0.99122807, 0.99649123,\n",
       "       0.98418278, 0.98242531, 0.99297012, 0.98945518, 0.99121265])"
      ]
     },
     "execution_count": 42,
     "metadata": {},
     "output_type": "execute_result"
    }
   ],
   "source": [
    "cv_score"
   ]
  },
  {
   "cell_type": "code",
   "execution_count": 46,
   "id": "attended-wesley",
   "metadata": {},
   "outputs": [
    {
     "data": {
      "text/plain": [
       "0.989287762464157"
      ]
     },
     "execution_count": 46,
     "metadata": {},
     "output_type": "execute_result"
    }
   ],
   "source": [
    "cv_score.mean()"
   ]
  },
  {
   "cell_type": "code",
   "execution_count": null,
   "id": "eight-washington",
   "metadata": {},
   "outputs": [],
   "source": []
  }
 ],
 "metadata": {
  "kernelspec": {
   "display_name": "Python 3",
   "language": "python",
   "name": "python3"
  },
  "language_info": {
   "codemirror_mode": {
    "name": "ipython",
    "version": 3
   },
   "file_extension": ".py",
   "mimetype": "text/x-python",
   "name": "python",
   "nbconvert_exporter": "python",
   "pygments_lexer": "ipython3",
   "version": "3.7.9"
  }
 },
 "nbformat": 4,
 "nbformat_minor": 5
}
