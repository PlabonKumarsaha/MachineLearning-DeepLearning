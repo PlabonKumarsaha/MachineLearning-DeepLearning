{
 "cells": [
  {
   "cell_type": "code",
   "execution_count": 2,
   "id": "understood-document",
   "metadata": {},
   "outputs": [],
   "source": [
    "# Assignging  feature and label variable\n",
    "weather = ['sunny','sunny','Overcast', 'Rainy','Rainy','Rainy','Overcast','sunny','sunny','Rainy','sunny','Overcast','Rainy'\n",
    "           ,'Overcast']"
   ]
  },
  {
   "cell_type": "code",
   "execution_count": 3,
   "id": "binary-arthritis",
   "metadata": {},
   "outputs": [],
   "source": [
    "# temp\n",
    "temp = ['Hot','Hot','Hot','Mild','Cold','Cold','Mild','Cold','Hot','Mild','Mild','Mild','Hot','Cold']\n"
   ]
  },
  {
   "cell_type": "code",
   "execution_count": 4,
   "id": "hispanic-buffer",
   "metadata": {},
   "outputs": [],
   "source": [
    "# label or target variable\n",
    "play = ['No','No','Yes','Yes','Yes','No','Yes','No','No','Yes','Yes','No','Yes','yes']"
   ]
  },
  {
   "cell_type": "code",
   "execution_count": 5,
   "id": "thirty-decrease",
   "metadata": {},
   "outputs": [],
   "source": [
    "# import label encoder\n",
    "from sklearn import preprocessing"
   ]
  },
  {
   "cell_type": "code",
   "execution_count": 7,
   "id": "original-huntington",
   "metadata": {},
   "outputs": [],
   "source": [
    "#creating instance\n",
    "labelEncoder = preprocessing.LabelEncoder()\n",
    "# converting string into number\n",
    "weather_encoder = labelEncoder.fit_transform(weather)"
   ]
  },
  {
   "cell_type": "code",
   "execution_count": 8,
   "id": "aboriginal-earth",
   "metadata": {},
   "outputs": [
    {
     "data": {
      "text/plain": [
       "array([2, 2, 0, 1, 1, 1, 0, 2, 2, 1, 2, 0, 1, 0, 1], dtype=int64)"
      ]
     },
     "execution_count": 8,
     "metadata": {},
     "output_type": "execute_result"
    }
   ],
   "source": [
    "weather_encoder"
   ]
  },
  {
   "cell_type": "code",
   "execution_count": 9,
   "id": "missing-security",
   "metadata": {},
   "outputs": [],
   "source": [
    "# converting string into number\n",
    "temp_encoder = labelEncoder.fit_transform(temp)"
   ]
  },
  {
   "cell_type": "code",
   "execution_count": 10,
   "id": "suspected-chapter",
   "metadata": {},
   "outputs": [
    {
     "data": {
      "text/plain": [
       "array([1, 1, 1, 2, 0, 0, 2, 0, 1, 2, 2, 2, 1, 0], dtype=int64)"
      ]
     },
     "execution_count": 10,
     "metadata": {},
     "output_type": "execute_result"
    }
   ],
   "source": [
    "temp_encoder"
   ]
  },
  {
   "cell_type": "code",
   "execution_count": 16,
   "id": "mighty-effort",
   "metadata": {},
   "outputs": [],
   "source": [
    "# converting string into number\n",
    "label = labelEncoder.fit_transform(play)"
   ]
  },
  {
   "cell_type": "code",
   "execution_count": 17,
   "id": "illegal-dream",
   "metadata": {},
   "outputs": [
    {
     "data": {
      "text/plain": [
       "array([0, 0, 1, 1, 1, 0, 1, 0, 0, 1, 1, 0, 1, 2], dtype=int64)"
      ]
     },
     "execution_count": 17,
     "metadata": {},
     "output_type": "execute_result"
    }
   ],
   "source": [
    "label"
   ]
  },
  {
   "cell_type": "code",
   "execution_count": 13,
   "id": "comprehensive-forward",
   "metadata": {},
   "outputs": [],
   "source": [
    "# combining weather and temp as zip\n",
    "features = list(zip(weather_encoder,temp_encoder))"
   ]
  },
  {
   "cell_type": "code",
   "execution_count": 14,
   "id": "literary-brunei",
   "metadata": {},
   "outputs": [
    {
     "data": {
      "text/plain": [
       "[(2, 1),\n",
       " (2, 1),\n",
       " (0, 1),\n",
       " (1, 2),\n",
       " (1, 0),\n",
       " (1, 0),\n",
       " (0, 2),\n",
       " (2, 0),\n",
       " (2, 1),\n",
       " (1, 2),\n",
       " (2, 2),\n",
       " (0, 2),\n",
       " (1, 1),\n",
       " (0, 0)]"
      ]
     },
     "execution_count": 14,
     "metadata": {},
     "output_type": "execute_result"
    }
   ],
   "source": [
    "features"
   ]
  },
  {
   "cell_type": "code",
   "execution_count": 15,
   "id": "numerous-campbell",
   "metadata": {},
   "outputs": [],
   "source": [
    "from sklearn.neighbors import KNeighborsClassifier\n",
    "model = KNeighborsClassifier(n_neighbors=3)"
   ]
  },
  {
   "cell_type": "code",
   "execution_count": 18,
   "id": "flush-garbage",
   "metadata": {},
   "outputs": [
    {
     "data": {
      "text/plain": [
       "KNeighborsClassifier(n_neighbors=3)"
      ]
     },
     "execution_count": 18,
     "metadata": {},
     "output_type": "execute_result"
    }
   ],
   "source": [
    "#train the model\n",
    "model.fit(features,label)"
   ]
  },
  {
   "cell_type": "code",
   "execution_count": null,
   "id": "blond-jumping",
   "metadata": {},
   "outputs": [],
   "source": [
    "# predict output\n",
    "predicted = model.predict()"
   ]
  }
 ],
 "metadata": {
  "kernelspec": {
   "display_name": "Python 3",
   "language": "python",
   "name": "python3"
  },
  "language_info": {
   "codemirror_mode": {
    "name": "ipython",
    "version": 3
   },
   "file_extension": ".py",
   "mimetype": "text/x-python",
   "name": "python",
   "nbconvert_exporter": "python",
   "pygments_lexer": "ipython3",
   "version": "3.7.9"
  }
 },
 "nbformat": 4,
 "nbformat_minor": 5
}
