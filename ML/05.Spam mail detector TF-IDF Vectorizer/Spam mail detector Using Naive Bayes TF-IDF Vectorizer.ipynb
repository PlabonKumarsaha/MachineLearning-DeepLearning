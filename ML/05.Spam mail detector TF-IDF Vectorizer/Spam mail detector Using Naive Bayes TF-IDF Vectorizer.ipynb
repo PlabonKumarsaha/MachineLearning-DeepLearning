{
 "cells": [
  {
   "cell_type": "code",
   "execution_count": 1,
   "id": "grave-deficit",
   "metadata": {},
   "outputs": [],
   "source": [
    "# tf = number of repeated word in a sentence / total word in a sentence\n",
    "# idf = log(total number of sentence/ no of sentence that contains the word)\n",
    "\n"
   ]
  },
  {
   "cell_type": "code",
   "execution_count": 27,
   "id": "foreign-throat",
   "metadata": {},
   "outputs": [],
   "source": [
    "# data set link : https://www.kaggle.com/rockinjas123/spam-ham-emails\n",
    "# import\n",
    "import numpy as np;\n",
    "import seaborn as sb\n",
    "import pandas as pd\n",
    "from sklearn.model_selection import train_test_split\n",
    "from sklearn.feature_extraction.text import CountVectorizer"
   ]
  },
  {
   "cell_type": "code",
   "execution_count": 28,
   "id": "unauthorized-ranch",
   "metadata": {},
   "outputs": [],
   "source": [
    "# import dataset\n",
    "df = pd.read_csv('emails.csv')"
   ]
  },
  {
   "cell_type": "code",
   "execution_count": 4,
   "id": "different-fabric",
   "metadata": {},
   "outputs": [
    {
     "data": {
      "text/html": [
       "<div>\n",
       "<style scoped>\n",
       "    .dataframe tbody tr th:only-of-type {\n",
       "        vertical-align: middle;\n",
       "    }\n",
       "\n",
       "    .dataframe tbody tr th {\n",
       "        vertical-align: top;\n",
       "    }\n",
       "\n",
       "    .dataframe thead th {\n",
       "        text-align: right;\n",
       "    }\n",
       "</style>\n",
       "<table border=\"1\" class=\"dataframe\">\n",
       "  <thead>\n",
       "    <tr style=\"text-align: right;\">\n",
       "      <th></th>\n",
       "      <th>text</th>\n",
       "      <th>spam</th>\n",
       "    </tr>\n",
       "  </thead>\n",
       "  <tbody>\n",
       "    <tr>\n",
       "      <th>0</th>\n",
       "      <td>Subject: naturally irresistible your corporate...</td>\n",
       "      <td>1</td>\n",
       "    </tr>\n",
       "    <tr>\n",
       "      <th>1</th>\n",
       "      <td>Subject: the stock trading gunslinger  fanny i...</td>\n",
       "      <td>1</td>\n",
       "    </tr>\n",
       "    <tr>\n",
       "      <th>2</th>\n",
       "      <td>Subject: unbelievable new homes made easy  im ...</td>\n",
       "      <td>1</td>\n",
       "    </tr>\n",
       "    <tr>\n",
       "      <th>3</th>\n",
       "      <td>Subject: 4 color printing special  request add...</td>\n",
       "      <td>1</td>\n",
       "    </tr>\n",
       "    <tr>\n",
       "      <th>4</th>\n",
       "      <td>Subject: do not have money , get software cds ...</td>\n",
       "      <td>1</td>\n",
       "    </tr>\n",
       "    <tr>\n",
       "      <th>...</th>\n",
       "      <td>...</td>\n",
       "      <td>...</td>\n",
       "    </tr>\n",
       "    <tr>\n",
       "      <th>5723</th>\n",
       "      <td>Subject: re : research and development charges...</td>\n",
       "      <td>0</td>\n",
       "    </tr>\n",
       "    <tr>\n",
       "      <th>5724</th>\n",
       "      <td>Subject: re : receipts from visit  jim ,  than...</td>\n",
       "      <td>0</td>\n",
       "    </tr>\n",
       "    <tr>\n",
       "      <th>5725</th>\n",
       "      <td>Subject: re : enron case study update  wow ! a...</td>\n",
       "      <td>0</td>\n",
       "    </tr>\n",
       "    <tr>\n",
       "      <th>5726</th>\n",
       "      <td>Subject: re : interest  david ,  please , call...</td>\n",
       "      <td>0</td>\n",
       "    </tr>\n",
       "    <tr>\n",
       "      <th>5727</th>\n",
       "      <td>Subject: news : aurora 5 . 2 update  aurora ve...</td>\n",
       "      <td>0</td>\n",
       "    </tr>\n",
       "  </tbody>\n",
       "</table>\n",
       "<p>5728 rows × 2 columns</p>\n",
       "</div>"
      ],
      "text/plain": [
       "                                                   text  spam\n",
       "0     Subject: naturally irresistible your corporate...     1\n",
       "1     Subject: the stock trading gunslinger  fanny i...     1\n",
       "2     Subject: unbelievable new homes made easy  im ...     1\n",
       "3     Subject: 4 color printing special  request add...     1\n",
       "4     Subject: do not have money , get software cds ...     1\n",
       "...                                                 ...   ...\n",
       "5723  Subject: re : research and development charges...     0\n",
       "5724  Subject: re : receipts from visit  jim ,  than...     0\n",
       "5725  Subject: re : enron case study update  wow ! a...     0\n",
       "5726  Subject: re : interest  david ,  please , call...     0\n",
       "5727  Subject: news : aurora 5 . 2 update  aurora ve...     0\n",
       "\n",
       "[5728 rows x 2 columns]"
      ]
     },
     "execution_count": 4,
     "metadata": {},
     "output_type": "execute_result"
    }
   ],
   "source": [
    "df\n",
    "# text is the feature and spam is the label(independent)"
   ]
  },
  {
   "cell_type": "code",
   "execution_count": 5,
   "id": "amateur-superintendent",
   "metadata": {},
   "outputs": [
    {
     "data": {
      "text/plain": [
       "0    4360\n",
       "1    1368\n",
       "Name: spam, dtype: int64"
      ]
     },
     "execution_count": 5,
     "metadata": {},
     "output_type": "execute_result"
    }
   ],
   "source": [
    "df['spam'].value_counts()"
   ]
  },
  {
   "cell_type": "code",
   "execution_count": 6,
   "id": "increased-disposal",
   "metadata": {},
   "outputs": [],
   "source": [
    "# drop the duplicate values\n",
    "df.drop_duplicates(inplace = True)"
   ]
  },
  {
   "cell_type": "code",
   "execution_count": 7,
   "id": "arctic-hebrew",
   "metadata": {},
   "outputs": [
    {
     "data": {
      "text/plain": [
       "0    4327\n",
       "1    1368\n",
       "Name: spam, dtype: int64"
      ]
     },
     "execution_count": 7,
     "metadata": {},
     "output_type": "execute_result"
    }
   ],
   "source": [
    "df['spam'].value_counts()\n",
    "# some duplicate ham mails were drops..count droped from 4360 to 4327"
   ]
  },
  {
   "cell_type": "code",
   "execution_count": 8,
   "id": "civilian-distance",
   "metadata": {},
   "outputs": [
    {
     "data": {
      "text/html": [
       "<div>\n",
       "<style scoped>\n",
       "    .dataframe tbody tr th:only-of-type {\n",
       "        vertical-align: middle;\n",
       "    }\n",
       "\n",
       "    .dataframe tbody tr th {\n",
       "        vertical-align: top;\n",
       "    }\n",
       "\n",
       "    .dataframe thead th {\n",
       "        text-align: right;\n",
       "    }\n",
       "</style>\n",
       "<table border=\"1\" class=\"dataframe\">\n",
       "  <thead>\n",
       "    <tr style=\"text-align: right;\">\n",
       "      <th></th>\n",
       "      <th>text</th>\n",
       "      <th>spam</th>\n",
       "    </tr>\n",
       "  </thead>\n",
       "  <tbody>\n",
       "    <tr>\n",
       "      <th>0</th>\n",
       "      <td>Subject: naturally irresistible your corporate...</td>\n",
       "      <td>1</td>\n",
       "    </tr>\n",
       "    <tr>\n",
       "      <th>1</th>\n",
       "      <td>Subject: the stock trading gunslinger  fanny i...</td>\n",
       "      <td>1</td>\n",
       "    </tr>\n",
       "    <tr>\n",
       "      <th>2</th>\n",
       "      <td>Subject: unbelievable new homes made easy  im ...</td>\n",
       "      <td>1</td>\n",
       "    </tr>\n",
       "    <tr>\n",
       "      <th>3</th>\n",
       "      <td>Subject: 4 color printing special  request add...</td>\n",
       "      <td>1</td>\n",
       "    </tr>\n",
       "    <tr>\n",
       "      <th>4</th>\n",
       "      <td>Subject: do not have money , get software cds ...</td>\n",
       "      <td>1</td>\n",
       "    </tr>\n",
       "    <tr>\n",
       "      <th>...</th>\n",
       "      <td>...</td>\n",
       "      <td>...</td>\n",
       "    </tr>\n",
       "    <tr>\n",
       "      <th>5723</th>\n",
       "      <td>Subject: re : research and development charges...</td>\n",
       "      <td>0</td>\n",
       "    </tr>\n",
       "    <tr>\n",
       "      <th>5724</th>\n",
       "      <td>Subject: re : receipts from visit  jim ,  than...</td>\n",
       "      <td>0</td>\n",
       "    </tr>\n",
       "    <tr>\n",
       "      <th>5725</th>\n",
       "      <td>Subject: re : enron case study update  wow ! a...</td>\n",
       "      <td>0</td>\n",
       "    </tr>\n",
       "    <tr>\n",
       "      <th>5726</th>\n",
       "      <td>Subject: re : interest  david ,  please , call...</td>\n",
       "      <td>0</td>\n",
       "    </tr>\n",
       "    <tr>\n",
       "      <th>5727</th>\n",
       "      <td>Subject: news : aurora 5 . 2 update  aurora ve...</td>\n",
       "      <td>0</td>\n",
       "    </tr>\n",
       "  </tbody>\n",
       "</table>\n",
       "<p>5695 rows × 2 columns</p>\n",
       "</div>"
      ],
      "text/plain": [
       "                                                   text  spam\n",
       "0     Subject: naturally irresistible your corporate...     1\n",
       "1     Subject: the stock trading gunslinger  fanny i...     1\n",
       "2     Subject: unbelievable new homes made easy  im ...     1\n",
       "3     Subject: 4 color printing special  request add...     1\n",
       "4     Subject: do not have money , get software cds ...     1\n",
       "...                                                 ...   ...\n",
       "5723  Subject: re : research and development charges...     0\n",
       "5724  Subject: re : receipts from visit  jim ,  than...     0\n",
       "5725  Subject: re : enron case study update  wow ! a...     0\n",
       "5726  Subject: re : interest  david ,  please , call...     0\n",
       "5727  Subject: news : aurora 5 . 2 update  aurora ve...     0\n",
       "\n",
       "[5695 rows x 2 columns]"
      ]
     },
     "execution_count": 8,
     "metadata": {},
     "output_type": "execute_result"
    }
   ],
   "source": [
    "df"
   ]
  },
  {
   "cell_type": "code",
   "execution_count": 9,
   "id": "political-dairy",
   "metadata": {},
   "outputs": [
    {
     "data": {
      "text/plain": [
       "text    0\n",
       "spam    0\n",
       "dtype: int64"
      ]
     },
     "execution_count": 9,
     "metadata": {},
     "output_type": "execute_result"
    }
   ],
   "source": [
    "df.isnull().sum()"
   ]
  },
  {
   "cell_type": "markdown",
   "id": "national-ranking",
   "metadata": {},
   "source": [
    "## Seperating the x and y from dataset "
   ]
  },
  {
   "cell_type": "code",
   "execution_count": 10,
   "id": "early-bunny",
   "metadata": {},
   "outputs": [],
   "source": [
    "x = df.text.values\n",
    "y = df.spam.values"
   ]
  },
  {
   "cell_type": "code",
   "execution_count": 11,
   "id": "exempt-archives",
   "metadata": {},
   "outputs": [
    {
     "data": {
      "text/plain": [
       "array([1, 1, 1, ..., 0, 0, 0], dtype=int64)"
      ]
     },
     "execution_count": 11,
     "metadata": {},
     "output_type": "execute_result"
    }
   ],
   "source": [
    "y"
   ]
  },
  {
   "cell_type": "markdown",
   "id": "raising-processing",
   "metadata": {},
   "source": [
    "## split dataset for training"
   ]
  },
  {
   "cell_type": "code",
   "execution_count": 12,
   "id": "missing-stranger",
   "metadata": {},
   "outputs": [],
   "source": [
    "xtrain,xtest,ytrain,ytest = train_test_split(x,y,test_size = 0.2)"
   ]
  },
  {
   "cell_type": "code",
   "execution_count": 13,
   "id": "representative-remedy",
   "metadata": {},
   "outputs": [
    {
     "data": {
      "text/plain": [
       "array(['Subject: ameriflash newsletter  michell vitrella called and wanted to know if the \" research group \" would  like to submit an article for the next issue of the ena newsletter  ( \" ameriflash )  they need to have the article by tomorrow .  thanks !  shirley  - - - - - - - - - - - - - - - - - - - - - - forwarded by shirley crenshaw / hou / ect on 10 / 24 / 2000  10 : 15 am - - - - - - - - - - - - - - - - - - - - - - - - - - -  from : michelle vitrella 10 / 24 / 2000 09 : 53 am  to : shirley crenshaw / hou / ect @ ect  cc :  subject : ameriflash newsletter  - - - - - - - - - - - - - - - - - - - - - - forwarded by michelle vitrella / hou / ect on 10 / 24 / 2000  09 : 54 pm - - - - - - - - - - - - - - - - - - - - - - - - - - -  enron north america corp .  from : ena public relations @ enron 10 / 19 / 2000  08 : 25 pm  sent by : enron announcements @ enron  to : all _ ena _ egm _ eim  cc :  subject : ameriflash newsletter  note from mark frevert  with the wide and varied activities of our three organizations , we created  this e - mail newsletter to keep everyone better informed about our various  businesses . i hope you find it informative and more importantly , that you  will use this newsletter to help spread the word about the successes in your  group .  to provide content for future e - mails , contact michelle vitrella in our  public relations group via e - mail or call her at ext . 3 - 9767 . communication  is one of the core enron values and i believe this is a great way to improve  communication across our wholesale businesses .  additionally , i would like to again encourage everyone to take a few minutes  to complete \\x01 & the pulse \\x01 8 survey . this annual survey regarding the work  experience at enron and how we can make it better is an important part of the  two - way communication process at enron . please go to the enron intranet and  type survey . enron . com . it only takes a few minutes , it \\x01 , s confidential and  your comments will help make enron a better place to work .  business highlights  natural gas  middle marketing \\x01 , s biggest trade of the year so far occurred this month . the  significant transaction was a five year , multimillion dollar restructuring  with a subsidiary of formosa plastics , one of the world \\x01 , s largest producers  of polyvinyl chloride .  additionally , continental airlines , the fifth largest us carrier , has hedged  a considerable amount ( 1 . 2 million barrels / month ) of crude oil . winter  nymex hedges were put in place for the undisputed heavyweight chip champ of  the world , frito lay .  pulp & paper  with the acquisition of garden state paper and launch of clickpaper . com ,  enron is creating an efficient spot physical market for pulp and paper  commodities . buyers and sellers will benefit from improved price  transparency and reliability and access to enron \\x01 , s online financial markets .  improved price transparency and the ability to imbed financial derivatives  into physical trading flows will facilitate the growth of enron \\x01 , s trading  business . to date , clickpaper . com has traded over 1 millions tons of pulp  and paper product with a notional value of over $ 675 million .  upstream origination  upstream origination , headed by julie gomez and jean mrha , focuses on natural  gas products to optimize commercial value associated with the natural gas  grid on the continent and in the gulf of mexico ( gom ) . through products such  as storage , electric compression and producer services & outsourcing , ena  creates value for its customers and reconfigures the natural gas  infrastructure to be more efficient . in addition , upstream origination  transactions exploit the unique relationship between development of strategic  assets through sophisticated financing structures and the utilization of the  market information created by those assets .  \\x01 & the pulse \\x01 8 survey results  as of wednesday , october 18 , the total responses to \\x01 & the pulse \\x01 8 from  ena / egm / eim are 689 . this is approximately 30 % of all employees . since our  goal is a 100 % response rate , we have a long way to go ! please take a few  minutes to log on and give enron your thoughts . the pulse is located at  survey . enron . com on the enron intranet page .  if you like competition , here are the results by group :  commercial - origination 131  energy operations 126  risk management and trading 106  other / none of the above 91  bus . analysis & rep . / fin . ops . 90  legal 46  gas assets 37  human resources 30  tax 18  technology / it 14  welcome  transferred into ena / eim / egm  ena - kathleen neal / hr , suzanne kelly / infocentral , tobias monk / finance direct  eim - eric connor / industrial energy group  egm - eric calub / global product mgmt  new hires ena / eim / egm  ena - lance cunningham / cts research , anita dupont / cts research , yvette  hales / gas logistics \\x01 ) east , angela howell / equity trading , farid mithani / power  risk - credit  egm - heather purcell / enron global markets  in the news  \\x01 & no company illustrates the transformative power of innovation more  dramatically than enron . over the past decade enron \\x01 , s commitment to the  invention \\x01 * and later domination \\x01 * of new business categories has taken it from a  $ 200 million old - economy pipeline operator to a $ 40 billion new - economy  trading powerhouse . \\x01 8  from \\x01 & the world \\x01 , s most admired companies , \\x01 8 fortune , monday , october 2  nuggets & notes  \\x01 & what \\x01 , s the message we \\x01 , re trying to get across ? \\x01 8 \\x01 ) ray bowen , coo eim  \\x01 & i \\x01 , m not a micro - manager \\x01 8 - john lavorato , coo ena  \\x01 & make it so , number one \\x01 8 \\x01 ) jeff shankman , coo egm  contest  enron is \\x01 & the most innovative company \\x01 8 based on fortune magazine \\x01 , s most  admired survey . ena public relations is ready to put enron north america ,  industrial markets and global markets to the test . we need your creative  minds to help name the new electronic newsletter we now call ameriflash . put  on your thinking caps and submit your ideas for a new name to  michelle . vitrella @ enron . com . the ena public relations team will narrow the  list to the top ten and then send it to our official judge , mark frevert , to  make the final decision . the winner will receive a gift certificate to any  pappas restaurant . good luck !',\n",
       "       'Subject: re :  life . . . : )  maybe next time .  roman  - - - - - original message - - - - -  from : vince . j . kaminski @ enron . com  to : rkosecki @ mieco . com  sent : 10 / 18 / 00 1 : 14 pm  subject : re :  roman ,  sorry . i am leaving for philadelphia this evening . leaving office around  5  p . m . let \\' s get together on another occasion .  vince  roman kosecki on 10 / 18 / 2000 02 : 09 : 28 pm  to : \" \\' vince . j . kaminski @ enron . com \\' \"  cc :  subject : re :  hi vince ,  i am in houston now . will have to work late . but how about  drinks / food  some time around 7 - 8 or later ? i am staying at wyndham greenplace ( ? )  and  will use taxi to get around .  thanks  roman  - - - - - original message - - - - -  from : vince . j . kaminski @ enron . com  to : rkosecki @ mieco . com  sent : 10 / 13 / 00 7 : 55 am  subject : re :  roman  thanks .  my home number is 281 367 5377  vince  roman kosecki on 10 / 13 / 2000 09 : 38 : 39 am  to : \" \\' vince . j . kaminski @ enron . com \\' \"  cc :  subject : re :  i will be in houston on wed . willl give you a call  roman  - - - - - original message - - - - -  from : vince . j . kaminski @ enron . com [ mailto : vince . j . kaminski @ enron . com ]  sent : thursday , october 12 , 2000 2 : 43 pm  to : rkosecki @ mieco . com  subject : re :  roman ,  drinks after work would be better . i am flying back from ca on tue  morning .  please , call me at 713 853 3848 or 713 410 5396 ( cell )  in the afternoon .  vince  roman kosecki on 10 / 12 / 2000 12 : 21 : 50 pm  to : \" \\' vince . j . kaminski @ enron . com \\' \"  cc :  subject :  hi vince  i will be in houston for a few days next week ( like mon - wed ) . if you  are  back from your european trips maybe we can \" do \" lunch ?  roman',\n",
       "       'Subject: request submitted : access request for amitava . dhar @ enron . com  you have received this email because the requester specified you as their  manager . please click  approval to review and act upon this request .  request id : 000000000011185  request create date : 12 / 21 / 00 4 : 20 : 10 pm  requested for : amitava . dhar @ enron . com  resource name : vpn  resource type : applications',\n",
       "       ...,\n",
       "       'Subject: all graphics software available , cheap oem versions .  good morning ,  we we offer latest oem packages of all graphics and publishinq software from corel , macromedia , adobe and others .  $ 80 adobe photoshop 8 . 0 / cs  $ 140 macromedia studio mx 2004  $ 120 adobe acrobat 7 . 0 professional  $ 150 adobe premiere pro 1 . 5  $ 90 corel desiqner 10  $ 90 quickbooks 2004 professional edition  $ 75 adobe pagemaker 7 . 0  $ 70 xara x vl . 1  $ 75 adobe audition 1 . 5  $ 90 discreet 3 d studio max 7  $ 115 adobe golive cs  $ 135 adobe after effects 6 . 5 standard  $ 45 adobe premiere eiements  $ 125 corel painter lx  $ 80 adobe iliustrator cs  $ 80 adobe indesiqn cs  $ 240 adobe creative suite  $ 140 adobe framemaker 7 . 1  $ 50 ulead cooi 3 d production studio 1 . 0 . 1  $ 90 alias motion builder 6 professionai  $ 30 quicken 2004 premier home & biz  $ 30 adobe photoshop elements 3 . 0  $ 110 adobe premiere pro 7 . 0  learn more . . .  sincereiy ,  aida ',\n",
       "       'Subject: fw : wharton resume submission  - - - - - original message - - - - -  from : kim whitsel [ mailto : kimberly . whitsel . wgo 2 @ wharton . upenn . edu ]  sent : friday , december 22 , 2000 6 : 51 pm  to : kristin . gandy @ enron . com  subject : wharton resume submission  summer position under wharton schedule # 1823  - kim whitsel - enron cover letter . doc  - kim whitsel - wharton 2 resume . doc',\n",
       "       'Subject: prc review  stinson ,  i am going to do the prc review for bob and paulo .  if your time permits , please join me for these two meetings .  bob : 9 : 00 am  paulo : 10 : 00 am  i attended the prc training , they suggested letting employees  read their review before the meeting . so i did that . here are the  two files attached .  zimin'],\n",
       "      dtype=object)"
      ]
     },
     "execution_count": 13,
     "metadata": {},
     "output_type": "execute_result"
    }
   ],
   "source": [
    "xtrain"
   ]
  },
  {
   "cell_type": "code",
   "execution_count": 14,
   "id": "boring-growth",
   "metadata": {},
   "outputs": [
    {
     "data": {
      "text/plain": [
       "array([0, 0, 0, ..., 1, 0, 0], dtype=int64)"
      ]
     },
     "execution_count": 14,
     "metadata": {},
     "output_type": "execute_result"
    }
   ],
   "source": [
    "ytrain"
   ]
  },
  {
   "cell_type": "markdown",
   "id": "outdoor-monday",
   "metadata": {},
   "source": [
    "# Data preprocessing"
   ]
  },
  {
   "cell_type": "code",
   "execution_count": 15,
   "id": "flexible-banner",
   "metadata": {},
   "outputs": [],
   "source": [
    "cv = CountVectorizer()\n",
    "x_train = cv.fit_transform(xtrain)"
   ]
  },
  {
   "cell_type": "code",
   "execution_count": 16,
   "id": "leading-musical",
   "metadata": {},
   "outputs": [
    {
     "data": {
      "text/plain": [
       "array([[0, 0, 0, ..., 0, 0, 0],\n",
       "       [2, 0, 0, ..., 0, 0, 0],\n",
       "       [1, 0, 0, ..., 0, 0, 0],\n",
       "       ...,\n",
       "       [0, 0, 0, ..., 0, 0, 0],\n",
       "       [0, 0, 0, ..., 0, 0, 0],\n",
       "       [2, 0, 0, ..., 0, 0, 0]], dtype=int64)"
      ]
     },
     "execution_count": 16,
     "metadata": {},
     "output_type": "execute_result"
    }
   ],
   "source": [
    "x_train.toarray()"
   ]
  },
  {
   "cell_type": "markdown",
   "id": "special-temple",
   "metadata": {},
   "source": [
    "# ML model"
   ]
  },
  {
   "cell_type": "code",
   "execution_count": 17,
   "id": "deluxe-penetration",
   "metadata": {},
   "outputs": [],
   "source": [
    "from sklearn.naive_bayes import MultinomialNB\n",
    "#MultinomialNB is best suite for text based workd"
   ]
  },
  {
   "cell_type": "code",
   "execution_count": 18,
   "id": "available-facing",
   "metadata": {},
   "outputs": [
    {
     "data": {
      "text/plain": [
       "MultinomialNB()"
      ]
     },
     "execution_count": 18,
     "metadata": {},
     "output_type": "execute_result"
    }
   ],
   "source": [
    "model = MultinomialNB()\n",
    "model.fit(x_train,ytrain)"
   ]
  },
  {
   "cell_type": "code",
   "execution_count": 19,
   "id": "cultural-delhi",
   "metadata": {},
   "outputs": [],
   "source": [
    "x_test = cv.transform(xtest)"
   ]
  },
  {
   "cell_type": "code",
   "execution_count": 20,
   "id": "thousand-hybrid",
   "metadata": {},
   "outputs": [
    {
     "data": {
      "text/plain": [
       "array([[0, 0, 0, ..., 0, 0, 0],\n",
       "       [0, 0, 0, ..., 0, 0, 0],\n",
       "       [0, 0, 0, ..., 0, 0, 0],\n",
       "       ...,\n",
       "       [0, 0, 0, ..., 0, 0, 0],\n",
       "       [0, 0, 0, ..., 0, 0, 0],\n",
       "       [0, 1, 0, ..., 0, 0, 0]], dtype=int64)"
      ]
     },
     "execution_count": 20,
     "metadata": {},
     "output_type": "execute_result"
    }
   ],
   "source": [
    "x_test.toarray()"
   ]
  },
  {
   "cell_type": "code",
   "execution_count": 21,
   "id": "talented-surfing",
   "metadata": {},
   "outputs": [
    {
     "data": {
      "text/plain": [
       "0.9920983318700615"
      ]
     },
     "execution_count": 21,
     "metadata": {},
     "output_type": "execute_result"
    }
   ],
   "source": [
    "# model accuracy\n",
    "model.score(x_test,ytest)"
   ]
  },
  {
   "cell_type": "code",
   "execution_count": 22,
   "id": "muslim-greece",
   "metadata": {},
   "outputs": [],
   "source": [
    "emails = ['I am looking for ML bengali tutorial', 'You have won a Iphone. Now fill up this adress form']"
   ]
  },
  {
   "cell_type": "code",
   "execution_count": 23,
   "id": "declared-addiction",
   "metadata": {},
   "outputs": [],
   "source": [
    "cv_emails = cv.transform(emails)\n"
   ]
  },
  {
   "cell_type": "code",
   "execution_count": 24,
   "id": "limiting-services",
   "metadata": {},
   "outputs": [
    {
     "data": {
      "text/plain": [
       "<2x33943 sparse matrix of type '<class 'numpy.int64'>'\n",
       "\twith 14 stored elements in Compressed Sparse Row format>"
      ]
     },
     "execution_count": 24,
     "metadata": {},
     "output_type": "execute_result"
    }
   ],
   "source": [
    "cv_emails"
   ]
  },
  {
   "cell_type": "code",
   "execution_count": 25,
   "id": "conscious-helicopter",
   "metadata": {},
   "outputs": [
    {
     "data": {
      "text/plain": [
       "array([0, 1], dtype=int64)"
      ]
     },
     "execution_count": 25,
     "metadata": {},
     "output_type": "execute_result"
    }
   ],
   "source": [
    "model.predict(cv_emails)\n",
    "# here the output 0 means not a ham mail and 1 means it is a spam mail"
   ]
  },
  {
   "cell_type": "markdown",
   "id": "fresh-conducting",
   "metadata": {},
   "source": [
    "## Performace matrix"
   ]
  },
  {
   "cell_type": "code",
   "execution_count": 26,
   "id": "homeless-percentage",
   "metadata": {},
   "outputs": [],
   "source": [
    "pred = model.predict(x_test)"
   ]
  },
  {
   "cell_type": "code",
   "execution_count": 29,
   "id": "juvenile-purpose",
   "metadata": {},
   "outputs": [
    {
     "data": {
      "text/plain": [
       "array([0, 0, 1, ..., 0, 1, 0], dtype=int64)"
      ]
     },
     "execution_count": 29,
     "metadata": {},
     "output_type": "execute_result"
    }
   ],
   "source": [
    "pred"
   ]
  },
  {
   "cell_type": "code",
   "execution_count": 31,
   "id": "shaped-adaptation",
   "metadata": {},
   "outputs": [],
   "source": [
    "from sklearn.metrics import accuracy_score"
   ]
  },
  {
   "cell_type": "code",
   "execution_count": 33,
   "id": "patent-construction",
   "metadata": {},
   "outputs": [
    {
     "data": {
      "text/plain": [
       "0.9920983318700615"
      ]
     },
     "execution_count": 33,
     "metadata": {},
     "output_type": "execute_result"
    }
   ],
   "source": [
    "# compare trained and test dataset\n",
    "accuracy_score(ytest,pred)"
   ]
  },
  {
   "cell_type": "markdown",
   "id": "absolute-passage",
   "metadata": {},
   "source": [
    "## Generate confusion matrix"
   ]
  },
  {
   "cell_type": "code",
   "execution_count": 35,
   "id": "monetary-abortion",
   "metadata": {},
   "outputs": [],
   "source": [
    "from sklearn.metrics import confusion_matrix"
   ]
  },
  {
   "cell_type": "code",
   "execution_count": 36,
   "id": "voluntary-supply",
   "metadata": {},
   "outputs": [
    {
     "data": {
      "text/plain": [
       "array([[889,   1],\n",
       "       [  8, 241]], dtype=int64)"
      ]
     },
     "execution_count": 36,
     "metadata": {},
     "output_type": "execute_result"
    }
   ],
   "source": [
    "# compare trained and test dataset\n",
    "confusion_matrix(ytest,pred)"
   ]
  },
  {
   "cell_type": "markdown",
   "id": "artistic-anniversary",
   "metadata": {},
   "source": [
    "## classification report"
   ]
  },
  {
   "cell_type": "code",
   "execution_count": 37,
   "id": "exempt-reynolds",
   "metadata": {},
   "outputs": [],
   "source": [
    "from sklearn.metrics import classification_report"
   ]
  },
  {
   "cell_type": "code",
   "execution_count": 38,
   "id": "decent-humanitarian",
   "metadata": {},
   "outputs": [
    {
     "data": {
      "text/plain": [
       "'              precision    recall  f1-score   support\\n\\n           0       0.99      1.00      0.99       890\\n           1       1.00      0.97      0.98       249\\n\\n    accuracy                           0.99      1139\\n   macro avg       0.99      0.98      0.99      1139\\nweighted avg       0.99      0.99      0.99      1139\\n'"
      ]
     },
     "execution_count": 38,
     "metadata": {},
     "output_type": "execute_result"
    }
   ],
   "source": [
    "classification_report(ytest,pred)"
   ]
  },
  {
   "cell_type": "code",
   "execution_count": null,
   "id": "selective-craft",
   "metadata": {},
   "outputs": [],
   "source": []
  }
 ],
 "metadata": {
  "kernelspec": {
   "display_name": "Python 3",
   "language": "python",
   "name": "python3"
  },
  "language_info": {
   "codemirror_mode": {
    "name": "ipython",
    "version": 3
   },
   "file_extension": ".py",
   "mimetype": "text/x-python",
   "name": "python",
   "nbconvert_exporter": "python",
   "pygments_lexer": "ipython3",
   "version": "3.7.9"
  }
 },
 "nbformat": 4,
 "nbformat_minor": 5
}
