{
 "cells": [
  {
   "cell_type": "code",
   "execution_count": 1,
   "id": "significant-messaging",
   "metadata": {},
   "outputs": [],
   "source": [
    "import pandas as pd"
   ]
  },
  {
   "cell_type": "code",
   "execution_count": null,
   "id": "mental-innocent",
   "metadata": {},
   "outputs": [],
   "source": [
    "df1 = pd.read_csv(\"ds1.csv\")\n",
    "df2 = pd.read_csv(\"ds2.csv\") # there is a common id in both(common column)\n",
    "df3 = pd.merge(df1, df2 , on =\"id\")\n",
    "df4 = pd.merge(df1, df2 , on =\"id\" , how =\"outer\") #all value including nan is shown"
   ]
  }
 ],
 "metadata": {
  "kernelspec": {
   "display_name": "Python 3",
   "language": "python",
   "name": "python3"
  },
  "language_info": {
   "codemirror_mode": {
    "name": "ipython",
    "version": 3
   },
   "file_extension": ".py",
   "mimetype": "text/x-python",
   "name": "python",
   "nbconvert_exporter": "python",
   "pygments_lexer": "ipython3",
   "version": "3.7.9"
  }
 },
 "nbformat": 4,
 "nbformat_minor": 5
}
