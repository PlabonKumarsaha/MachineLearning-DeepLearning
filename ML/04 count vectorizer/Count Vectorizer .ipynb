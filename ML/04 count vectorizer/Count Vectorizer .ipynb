{
 "cells": [
  {
   "cell_type": "code",
   "execution_count": 2,
   "id": "waiting-export",
   "metadata": {},
   "outputs": [],
   "source": [
    "# import.this is for text data pre processing. This is used when we have couple of meaningful sentenses together\n",
    "from sklearn.feature_extraction.text import CountVectorizer "
   ]
  },
  {
   "cell_type": "code",
   "execution_count": 4,
   "id": "blind-referral",
   "metadata": {},
   "outputs": [],
   "source": [
    "dataSet = ['I am PKS', 'I like Data science',\n",
    "          'Welcome to this repository','hello world']"
   ]
  },
  {
   "cell_type": "code",
   "execution_count": 5,
   "id": "level-terrain",
   "metadata": {},
   "outputs": [],
   "source": [
    "cv = CountVectorizer ()\n",
    "x = cv.fit_transform(dataSet)"
   ]
  },
  {
   "cell_type": "code",
   "execution_count": 6,
   "id": "large-cornwall",
   "metadata": {},
   "outputs": [
    {
     "data": {
      "text/plain": [
       "['am',\n",
       " 'data',\n",
       " 'hello',\n",
       " 'like',\n",
       " 'pks',\n",
       " 'repository',\n",
       " 'science',\n",
       " 'this',\n",
       " 'to',\n",
       " 'welcome',\n",
       " 'world']"
      ]
     },
     "execution_count": 6,
     "metadata": {},
     "output_type": "execute_result"
    }
   ],
   "source": [
    "# shows every unique word from the data set\n",
    "cv.get_feature_names()"
   ]
  },
  {
   "cell_type": "code",
   "execution_count": 7,
   "id": "generous-entrepreneur",
   "metadata": {},
   "outputs": [
    {
     "data": {
      "text/plain": [
       "array([[1, 0, 0, 0, 1, 0, 0, 0, 0, 0, 0],\n",
       "       [0, 1, 0, 1, 0, 0, 1, 0, 0, 0, 0],\n",
       "       [0, 0, 0, 0, 0, 1, 0, 1, 1, 1, 0],\n",
       "       [0, 0, 1, 0, 0, 0, 0, 0, 0, 0, 1]], dtype=int64)"
      ]
     },
     "execution_count": 7,
     "metadata": {},
     "output_type": "execute_result"
    }
   ],
   "source": [
    "x.toarray() # compare each row with each coma seperated sentense and the list order value in cv.get_eature_names()"
   ]
  },
  {
   "cell_type": "code",
   "execution_count": null,
   "id": "electric-population",
   "metadata": {},
   "outputs": [],
   "source": []
  }
 ],
 "metadata": {
  "kernelspec": {
   "display_name": "Python 3",
   "language": "python",
   "name": "python3"
  },
  "language_info": {
   "codemirror_mode": {
    "name": "ipython",
    "version": 3
   },
   "file_extension": ".py",
   "mimetype": "text/x-python",
   "name": "python",
   "nbconvert_exporter": "python",
   "pygments_lexer": "ipython3",
   "version": "3.7.9"
  }
 },
 "nbformat": 4,
 "nbformat_minor": 5
}
